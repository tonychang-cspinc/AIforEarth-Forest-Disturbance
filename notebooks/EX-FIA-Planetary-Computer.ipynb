{
 "cells": [
  {
   "cell_type": "code",
   "execution_count": null,
   "id": "enormous-formula",
   "metadata": {},
   "outputs": [],
   "source": [
    "!pip install fastparquet"
   ]
  },
  {
   "cell_type": "code",
   "execution_count": 3,
   "id": "instant-brazil",
   "metadata": {},
   "outputs": [],
   "source": [
    "import dask.dataframe as dd\n",
    "from adlfs import AzureBlobFileSystem\n",
    "\n",
    "# Not used directly, but either fastparquet or pyarrow needs to be installed\n",
    "import fastparquet\n",
    "\n",
    "storage_account_name = 'cpdataeuwest'\n",
    "folder_name = 'cpdata/raw/fia'"
   ]
  },
  {
   "cell_type": "code",
   "execution_count": 4,
   "id": "diagnostic-briefs",
   "metadata": {},
   "outputs": [
    {
     "name": "stdout",
     "output_type": "stream",
     "text": [
      "Found 60 Parquet files\n",
      "cpdata/raw/fia/boundary.parquet\n",
      "cpdata/raw/fia/cond.parquet\n",
      "cpdata/raw/fia/cond_dwm_calc.parquet\n",
      "cpdata/raw/fia/county.parquet\n",
      "cpdata/raw/fia/dwm_coarse_woody_debris.parquet\n",
      "cpdata/raw/fia/dwm_duff_litter_fuel.parquet\n",
      "cpdata/raw/fia/dwm_fine_woody_debris.parquet\n",
      "cpdata/raw/fia/dwm_microplot_fuel.parquet\n",
      "cpdata/raw/fia/dwm_residual_pile.parquet\n",
      "cpdata/raw/fia/dwm_transect_segment.parquet\n",
      "...\n"
     ]
    }
   ],
   "source": [
    "fs = AzureBlobFileSystem(account_name=storage_account_name)\n",
    "parquet_files = fs.glob(folder_name + '/*parquet')\n",
    "print('Found {} Parquet files'.format(len(parquet_files)))\n",
    "for k in range(0,10):\n",
    "    print(parquet_files[k])\n",
    "print('...')"
   ]
  },
  {
   "cell_type": "code",
   "execution_count": 42,
   "id": "inside-charge",
   "metadata": {},
   "outputs": [],
   "source": [
    "search_term = 'plot'\n",
    "plot = [f for f in parquet_files if f'{search_term}.parquet' in f]\n",
    "query = plot[1]"
   ]
  },
  {
   "cell_type": "code",
   "execution_count": 43,
   "id": "special-backing",
   "metadata": {},
   "outputs": [],
   "source": [
    "df = dd.read_parquet(f'az://{query}',\n",
    "                     storage_options={'account_name':storage_account_name}).compute()"
   ]
  },
  {
   "cell_type": "code",
   "execution_count": 53,
   "id": "caring-silence",
   "metadata": {},
   "outputs": [
    {
     "name": "stdout",
     "output_type": "stream",
     "text": [
      "1495331\n",
      "1495331\n"
     ]
    }
   ],
   "source": [
    "s = df[['INVYR', 'MEASYEAR', 'MEASMON', 'MEASDAY']].dropna()"
   ]
  },
  {
   "cell_type": "code",
   "execution_count": 72,
   "id": "characteristic-vietnamese",
   "metadata": {},
   "outputs": [],
   "source": [
    "import pandas as pd\n",
    "import math\n",
    "import numpy as np\n",
    "datetime = [f\"{int(a['MEASYEAR'])}-{int(a['MEASMON'])}-{math.ceil(a['MEASDAY'])}\" for _,a in s.iterrows()]\n",
    "dt = []\n",
    "for d in datetime:\n",
    "    try:\n",
    "        dt.append(pd.to_datetime(d, format='%Y-%m-%d'))\n",
    "    except:\n",
    "        dt.append(np.nan)"
   ]
  },
  {
   "cell_type": "code",
   "execution_count": 86,
   "id": "stylish-surveillance",
   "metadata": {},
   "outputs": [
    {
     "name": "stdout",
     "output_type": "stream",
     "text": [
      "374861\n"
     ]
    }
   ],
   "source": [
    "s['DATETIME'] = dt\n",
    "print(len(s)-len(s.dropna()))"
   ]
  },
  {
   "cell_type": "code",
   "execution_count": 96,
   "id": "human-senator",
   "metadata": {},
   "outputs": [
    {
     "data": {
      "text/plain": [
       "(array([  133.,   351.,   231.,   635., 12819., 12716.,   365.,  6539.,\n",
       "         1167.,  1282.,  9631.,   667.,   452.,   834., 11774.,  1523.,\n",
       "         5224.,  1450.,  4346.,  2000.,  9463.,  7030.,  9775.,  8315.,\n",
       "        13842., 23561., 30178., 38042., 43172., 41120., 42158., 56887.,\n",
       "        46215., 36075., 48237., 43321., 29492., 48009., 50093., 53731.,\n",
       "        51369., 39842., 28194., 43051., 42973., 43874., 43491., 32797.,\n",
       "        35884.,  6140.]),\n",
       " array([ 3103.  ,  3408.04,  3713.08,  4018.12,  4323.16,  4628.2 ,\n",
       "         4933.24,  5238.28,  5543.32,  5848.36,  6153.4 ,  6458.44,\n",
       "         6763.48,  7068.52,  7373.56,  7678.6 ,  7983.64,  8288.68,\n",
       "         8593.72,  8898.76,  9203.8 ,  9508.84,  9813.88, 10118.92,\n",
       "        10423.96, 10729.  , 11034.04, 11339.08, 11644.12, 11949.16,\n",
       "        12254.2 , 12559.24, 12864.28, 13169.32, 13474.36, 13779.4 ,\n",
       "        14084.44, 14389.48, 14694.52, 14999.56, 15304.6 , 15609.64,\n",
       "        15914.68, 16219.72, 16524.76, 16829.8 , 17134.84, 17439.88,\n",
       "        17744.92, 18049.96, 18355.  ]),\n",
       " <BarContainer object of 50 artists>)"
      ]
     },
     "execution_count": 96,
     "metadata": {},
     "output_type": "execute_result"
    },
    {
     "data": {
      "image/png": "[encoded data removed]",
      "text/plain": [
       "<Figure size 432x288 with 1 Axes>"
      ]
     },
     "metadata": {
      "needs_background": "light"
     },
     "output_type": "display_data"
    }
   ],
   "source": [
    "import matplotlib.pyplot as plt\n",
    "plt.hist(s['DATETIME'], bins=50)"
   ]
  },
  {
   "cell_type": "code",
   "execution_count": 111,
   "id": "handy-borough",
   "metadata": {},
   "outputs": [
    {
     "data": {
      "text/plain": [
       "(array([105030.,   3415.,   3294.,   3188.,   3569.,   3831.,   3723.,\n",
       "          3646.,   3646.,   3524.,   3561.,   3675.,   3781.,   3759.,\n",
       "          3564.,   3537.,   3419.,   3630.,   3640.,   3618.,   3554.,\n",
       "          3355.,   3439.,   3414.,   3334.,   3555.,   3551.,   3505.,\n",
       "          3285.,   3261.,   2182.]),\n",
       " array([ 1.        ,  1.96774194,  2.93548387,  3.90322581,  4.87096774,\n",
       "         5.83870968,  6.80645161,  7.77419355,  8.74193548,  9.70967742,\n",
       "        10.67741935, 11.64516129, 12.61290323, 13.58064516, 14.5483871 ,\n",
       "        15.51612903, 16.48387097, 17.4516129 , 18.41935484, 19.38709677,\n",
       "        20.35483871, 21.32258065, 22.29032258, 23.25806452, 24.22580645,\n",
       "        25.19354839, 26.16129032, 27.12903226, 28.09677419, 29.06451613,\n",
       "        30.03225806, 31.        ]),\n",
       " <BarContainer object of 31 artists>)"
      ]
     },
     "execution_count": 111,
     "metadata": {},
     "output_type": "execute_result"
    },
    {
     "data": {
      "image/png": "[encoded data removed]",
      "text/plain": [
       "<Figure size 1152x576 with 2 Axes>"
      ]
     },
     "metadata": {
      "needs_background": "light"
     },
     "output_type": "display_data"
    }
   ],
   "source": [
    "f, ax = plt.subplots(1,2,figsize=(16,8))\n",
    "ax[0].hist(s[s['MEASYEAR']>=2015]['MEASMON'],bins=12)\n",
    "ax[1].hist(s[s['MEASYEAR']>=2015]['MEASDAY'],bins=31)"
   ]
  },
  {
   "cell_type": "code",
   "execution_count": null,
   "id": "senior-cabin",
   "metadata": {},
   "outputs": [],
   "source": []
  }
 ],
 "metadata": {
  "kernelspec": {
   "display_name": "Python 3",
   "language": "python",
   "name": "python3"
  },
  "language_info": {
   "codemirror_mode": {
    "name": "ipython",
    "version": 3
   },
   "file_extension": ".py",
   "mimetype": "text/x-python",
   "name": "python",
   "nbconvert_exporter": "python",
   "pygments_lexer": "ipython3",
   "version": "3.8.5"
  }
 },
 "nbformat": 4,
 "nbformat_minor": 5
}
