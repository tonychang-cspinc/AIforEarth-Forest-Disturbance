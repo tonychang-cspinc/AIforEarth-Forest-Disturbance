{
 "cells": [
  {
   "cell_type": "markdown",
   "metadata": {},
   "source": [
    "from https://github.com/hunter-stanke/rFIA"
   ]
  },
  {
   "cell_type": "code",
   "execution_count": 19,
   "metadata": {},
   "outputs": [],
   "source": [
    "library(rFIA)"
   ]
  },
  {
   "cell_type": "code",
   "execution_count": 20,
   "metadata": {},
   "outputs": [],
   "source": [
    "states = c('CA', 'NV', 'AZ', 'CO', 'NM', 'UT', 'OR', 'WA')"
   ]
  },
  {
   "cell_type": "code",
   "execution_count": 21,
   "metadata": {},
   "outputs": [],
   "source": [
    "datadir <- '/home/datablob/supp_data'\n",
    "rfiadir <- '/home/datablob/rfia'"
   ]
  },
  {
   "cell_type": "code",
   "execution_count": 22,
   "metadata": {},
   "outputs": [
    {
     "name": "stderr",
     "output_type": "stream",
     "text": [
      "Saving to /home/datablob/supp_data/CA/. NOTE: modifying FIA tables in Excel may corrupt csv files.\n",
      "\n",
      "Warning message in file(file, ifelse(append, \"a\", \"w\")):\n",
      "“cannot open file '/home/datablob/rfia/CA/tpa.csv': No such file or directory”\n"
     ]
    },
    {
     "ename": "ERROR",
     "evalue": "Error in file(file, ifelse(append, \"a\", \"w\")): cannot open the connection\n",
     "output_type": "error",
     "traceback": [
      "Error in file(file, ifelse(append, \"a\", \"w\")): cannot open the connection\nTraceback:\n",
      "1. write.table(state_tpa, file = outfile)",
      "2. file(file, ifelse(append, \"a\", \"w\"))"
     ]
    }
   ],
   "source": [
    "for (state in states){\n",
    "    state_path <- paste(datadir,state, sep='/')\n",
    "    ncores = 4\n",
    "    fia <- getFIA(states=state, dir=state_path, nCores=ncores)\n",
    "    db <- readFIA(state_path)\n",
    "    state_tpa <- tpa(db, byPlot=TRUE)#, returnSpatial=TRUE)\n",
    "    state_bm <- biomass(db, byPlot=TRUE)#, returnSpatial=TRUE)\n",
    "    \n",
    "    outfile <- paste(rfiadir,state,'tpa.csv',sep='/')\n",
    "    write.table(state_tpa, file = outfile)\n",
    "    outfile <- paste(rfiadir,state,'bm.csv',sep='/')\n",
    "    write.table(state_tpa, file = outfile)\n",
    "    }"
   ]
  },
  {
   "cell_type": "code",
   "execution_count": null,
   "metadata": {},
   "outputs": [],
   "source": []
  }
 ],
 "metadata": {
  "kernelspec": {
   "display_name": "R",
   "language": "R",
   "name": "ir"
  },
  "language_info": {
   "codemirror_mode": "r",
   "file_extension": ".r",
   "mimetype": "text/x-r-source",
   "name": "R",
   "pygments_lexer": "r",
   "version": "3.6.3"
  }
 },
 "nbformat": 4,
 "nbformat_minor": 4
}
