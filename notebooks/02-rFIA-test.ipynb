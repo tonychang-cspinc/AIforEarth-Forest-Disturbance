{
 "cells": [
  {
   "cell_type": "markdown",
   "metadata": {},
   "source": [
    "from https://github.com/hunter-stanke/rFIA"
   ]
  },
  {
   "cell_type": "code",
   "execution_count": 1,
   "metadata": {},
   "outputs": [],
   "source": [
    "library(rFIA)"
   ]
  },
  {
   "cell_type": "code",
   "execution_count": 2,
   "metadata": {},
   "outputs": [],
   "source": [
    "states = c('CA', 'NV', 'AZ', 'CO', 'NM', 'UT', 'OR', 'WA')"
   ]
  },
  {
   "cell_type": "code",
   "execution_count": 3,
   "metadata": {},
   "outputs": [
    {
     "name": "stderr",
     "output_type": "stream",
     "text": [
      "Saving to /datadrive/fia/supp_data/CA/. NOTE: modifying FIA tables in Excel may corrupt csv files.\n",
      "\n",
      "Creating directory: /datadrive/fia/supp_data/NV/\n",
      "\n",
      "Saving to /datadrive/fia/supp_data/NV/. NOTE: modifying FIA tables in Excel may corrupt csv files.\n",
      "\n",
      "Creating directory: /datadrive/fia/supp_data/AZ/\n",
      "\n",
      "Saving to /datadrive/fia/supp_data/AZ/. NOTE: modifying FIA tables in Excel may corrupt csv files.\n",
      "\n",
      "Creating directory: /datadrive/fia/supp_data/CO/\n",
      "\n",
      "Saving to /datadrive/fia/supp_data/CO/. NOTE: modifying FIA tables in Excel may corrupt csv files.\n",
      "\n",
      "Creating directory: /datadrive/fia/supp_data/NM/\n",
      "\n",
      "Saving to /datadrive/fia/supp_data/NM/. NOTE: modifying FIA tables in Excel may corrupt csv files.\n",
      "\n",
      "Creating directory: /datadrive/fia/supp_data/UT/\n",
      "\n",
      "Saving to /datadrive/fia/supp_data/UT/. NOTE: modifying FIA tables in Excel may corrupt csv files.\n",
      "\n",
      "Creating directory: /datadrive/fia/supp_data/OR/\n",
      "\n",
      "Saving to /datadrive/fia/supp_data/OR/. NOTE: modifying FIA tables in Excel may corrupt csv files.\n",
      "\n",
      "Creating directory: /datadrive/fia/supp_data/WA/\n",
      "\n",
      "Saving to /datadrive/fia/supp_data/WA/. NOTE: modifying FIA tables in Excel may corrupt csv files.\n",
      "\n"
     ]
    }
   ],
   "source": [
    "for (state in states){\n",
    "    state_path <- paste('/datadrive/fia/supp_data/',state, sep='')\n",
    "    ncores = 4\n",
    "    fia <- getFIA(states=state, dir=state_path, nCores=ncores)\n",
    "    db <- readFIA(state_path)\n",
    "    state_tpa <- tpa(db, byPlot=TRUE)#, returnSpatial=TRUE)\n",
    "    state_bm <- biomass(db, byPlot=TRUE)#, returnSpatial=TRUE)\n",
    "    \n",
    "    outfile <- paste('/datadrive/fia/rfia_out/',state,'_tpa.csv',sep='')\n",
    "    write.table(state_tpa, file = outfile)\n",
    "    outfile <- paste('/datadrive/fia/rfia_out/',state,'_bm.csv',sep='')\n",
    "    write.table(state_tpa, file = outfile)\n",
    "    }"
   ]
  }
 ],
 "metadata": {
  "kernelspec": {
   "display_name": "R",
   "language": "R",
   "name": "ir"
  },
  "language_info": {
   "codemirror_mode": "r",
   "file_extension": ".r",
   "mimetype": "text/x-r-source",
   "name": "R",
   "pygments_lexer": "r",
   "version": "3.6.3"
  }
 },
 "nbformat": 4,
 "nbformat_minor": 4
}
