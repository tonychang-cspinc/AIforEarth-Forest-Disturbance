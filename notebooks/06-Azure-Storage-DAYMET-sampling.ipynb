{
 "cells": [
  {
   "cell_type": "markdown",
   "metadata": {},
   "source": [
    "# open FIA data points"
   ]
  },
  {
   "cell_type": "code",
   "execution_count": 1,
   "metadata": {},
   "outputs": [],
   "source": [
    "# Mostly-standard imports\n",
    "import os\n",
    "import sys \n",
    "sys.path.append('/content')\n",
    "import xarray as xr\n",
    "import tempfile\n",
    "import numpy as np\n",
    "import shutil\n",
    "import urllib\n",
    "import matplotlib.pyplot as plt\n",
    "import pandas as pd\n",
    "import geopandas as gpd\n",
    "from shapely.geometry import Point\n",
    "from glob import glob\n",
    "import utm\n",
    "\n",
    "import src.azuretools as azt\n",
    "\n",
    "#from mpl_toolkits.basemap import Basemap\n",
    "\n",
    "# Less-common-but-still-pip-installable imports\n",
    "from netCDF4 import Dataset\n",
    "\n",
    "# pip install progressbar2, not progressbar\n",
    "import progressbar\n",
    "\n",
    "\n",
    "# This will contain just the .nc files\n",
    "nasadem_file_list = None\n",
    "                                   \n",
    "temp_dir = os.path.join(tempfile.gettempdir(),'nasadem')\n",
    "os.makedirs(temp_dir,exist_ok=True)\n",
    "\n",
    "%matplotlib inline\n",
    "%load_ext autoreload\n",
    "%autoreload 2"
   ]
  },
  {
   "cell_type": "code",
   "execution_count": 2,
   "metadata": {
    "scrolled": true
   },
   "outputs": [
    {
     "name": "stderr",
     "output_type": "stream",
     "text": [
      "/usr/local/lib/python3.8/dist-packages/geopandas/geodataframe.py:167: UserWarning: Pandas doesn't allow columns to be created via a new attribute name - see https://pandas.pydata.org/pandas-docs/stable/indexing.html#attribute-access\n",
      "  super(GeoDataFrame, self).__setattr__(attr, val)\n",
      "/usr/local/lib/python3.8/dist-packages/pyproj/crs/crs.py:53: FutureWarning: '+init=<authority>:<code>' syntax is deprecated. '<authority>:<code>' is the preferred initialization method. When making the change, be mindful of axis order changes: https://pyproj4.github.io/pyproj/stable/gotchas.html#axis-order-changes-in-proj-6\n",
      "  return _prepare_from_string(\" \".join(pjargs))\n"
     ]
    }
   ],
   "source": [
    "blob = '/home/datablob'\n",
    "fiafile = f'{blob}/fia_no_pltcn.csv'\n",
    "plots = gpd.GeoDataFrame(pd.read_csv(fiafile))\n",
    "plots.Latitude = plots.LAT.astype('float')\n",
    "plots.Longitude = plots.LON.astype('float')\n",
    "geometry = [Point(xy) for xy in zip(plots.Longitude, plots.Latitude)]\n",
    "crs = {'init': 'epsg:4326'} \n",
    "geo_df = gpd.GeoDataFrame(plots, crs=crs, geometry=geometry)\n",
    "\n",
    "#subset by STATECD\n",
    "statecd = pd.read_csv(glob(f'{blob}/supp_data/*.csv')[0])\n",
    "query = 'CA'\n",
    "\n",
    "code = statecd[statecd['STATEAB']== query]['STATECD'].values[0]\n",
    "subdf = geo_df[geo_df['STATECD']==code]\n",
    "fields = ['INDEX', 'INVYR', 'LAT', 'LON']\n",
    "subdf = subdf.astype({'LAT':'float', 'LON':'float', 'INVYR':'int32'})\n",
    "subdf = gpd.GeoDataFrame(subdf, geometry=gpd.points_from_xy(subdf.LON, subdf.LAT))\n",
    "subdf = subdf.set_crs(epsg=4326)\n",
    "subdf = subdf.rename(columns={'Unnamed: 0':'INDEX'})\n",
    "\n",
    "#statebounds for reducing query on cloud\n",
    "statebounds = glob(f'{blob}/supp_data/shp/*.shp')[0]\n",
    "states = gpd.read_file(statebounds)\n",
    "state = states[states['STPOSTAL']==query]\n",
    "state_shape = state.geometry"
   ]
  },
  {
   "cell_type": "code",
   "execution_count": 5,
   "metadata": {},
   "outputs": [
    {
     "name": "stdout",
     "output_type": "stream",
     "text": [
      "Collecting azure-storage-blob\n",
      "  Downloading azure_storage_blob-12.5.0-py2.py3-none-any.whl (326 kB)\n",
      "\u001b[K     |████████████████████████████████| 326 kB 16.3 MB/s eta 0:00:01\n",
      "\u001b[?25hCollecting azure-core<2.0.0,>=1.6.0\n",
      "  Downloading azure_core-1.8.2-py2.py3-none-any.whl (122 kB)\n",
      "\u001b[K     |████████████████████████████████| 122 kB 47.1 MB/s eta 0:00:01\n",
      "\u001b[?25hRequirement already satisfied: cryptography>=2.1.4 in /usr/local/lib/python3.8/dist-packages (from azure-storage-blob) (3.2.1)\n",
      "Collecting msrest>=0.6.10\n",
      "  Downloading msrest-0.6.19-py2.py3-none-any.whl (84 kB)\n",
      "\u001b[K     |████████████████████████████████| 84 kB 3.6 MB/s  eta 0:00:01\n",
      "\u001b[?25hRequirement already satisfied: requests>=2.18.4 in /usr/lib/python3/dist-packages (from azure-core<2.0.0,>=1.6.0->azure-storage-blob) (2.22.0)\n",
      "Requirement already satisfied: six>=1.6 in /usr/lib/python3/dist-packages (from azure-core<2.0.0,>=1.6.0->azure-storage-blob) (1.14.0)\n",
      "Requirement already satisfied: cffi!=1.11.3,>=1.8 in /usr/local/lib/python3.8/dist-packages (from cryptography>=2.1.4->azure-storage-blob) (1.14.3)\n",
      "Requirement already satisfied: certifi>=2017.4.17 in /usr/lib/python3/dist-packages (from msrest>=0.6.10->azure-storage-blob) (2019.11.28)\n",
      "Collecting isodate>=0.6.0\n",
      "  Downloading isodate-0.6.0-py2.py3-none-any.whl (45 kB)\n",
      "\u001b[K     |████████████████████████████████| 45 kB 3.5 MB/s  eta 0:00:01\n",
      "\u001b[?25hRequirement already satisfied: requests-oauthlib>=0.5.0 in /usr/local/lib/python3.8/dist-packages (from msrest>=0.6.10->azure-storage-blob) (1.3.0)\n",
      "Requirement already satisfied: pycparser in /usr/local/lib/python3.8/dist-packages (from cffi!=1.11.3,>=1.8->cryptography>=2.1.4->azure-storage-blob) (2.20)\n",
      "Requirement already satisfied: oauthlib>=3.0.0 in /usr/local/lib/python3.8/dist-packages (from requests-oauthlib>=0.5.0->msrest>=0.6.10->azure-storage-blob) (3.1.0)\n",
      "Installing collected packages: azure-core, isodate, msrest, azure-storage-blob\n",
      "Successfully installed azure-core-1.8.2 azure-storage-blob-12.5.0 isodate-0.6.0 msrest-0.6.19\n"
     ]
    }
   ],
   "source": [
    "!pip3 install azure-storage-blob"
   ]
  },
  {
   "cell_type": "code",
   "execution_count": 6,
   "metadata": {},
   "outputs": [],
   "source": [
    "# Standard or standard-ish imports\n",
    "import os\n",
    "import tempfile\n",
    "import shutil\n",
    "import numpy as np\n",
    "import matplotlib.pyplot as plt\n",
    "import urllib.request\n",
    "\n",
    "# Less standard, but still pip- or conda-installable\n",
    "import netCDF4 as nc \n",
    "from azure.storage.blob import ContainerClient\n",
    "from netCDF4 import Dataset\n",
    "\n",
    "container_name = 'daymetv3-raw'\n",
    "daymet_azure_storage_url = 'https://daymet.blob.core.windows.net/'\n",
    "\n",
    "daymet_container_client = ContainerClient(account_url=daymet_azure_storage_url, \n",
    "                                         container_name=container_name,\n",
    "                                         credential=None)\n",
    "\n",
    "# Temporary folder for data we need during execution of this notebook (we'll clean up\n",
    "# at the end, we promise)\n",
    "temp_dir = os.path.join(tempfile.gettempdir(),'daymet')\n",
    "os.makedirs(temp_dir,exist_ok=True)\n",
    "\n",
    "def download_url(url, destination_filename=None, progress_updater=None, force_download=False):\n",
    "    \"\"\"\n",
    "    Download a URL to a temporary file\n",
    "    \"\"\"\n",
    "    \n",
    "    # This is not intended to guarantee uniqueness, we just know it happens to guarantee\n",
    "    # uniqueness for this application.\n",
    "    if destination_filename is None:\n",
    "        url_as_filename = url.replace('://', '_').replace('.', '_').replace('/', '_')\n",
    "        destination_filename = \\\n",
    "            os.path.join(temp_dir,url_as_filename)\n",
    "    if (not force_download) and (os.path.isfile(destination_filename)):\n",
    "        print('Bypassing download of already-downloaded file {}'.format(os.path.basename(url)))\n",
    "        return destination_filename\n",
    "    print('Downloading file {}'.format(os.path.basename(url)),end='')\n",
    "    urllib.request.urlretrieve(url, destination_filename, progress_updater)  \n",
    "    assert(os.path.isfile(destination_filename))\n",
    "    nBytes = os.path.getsize(destination_filename)\n",
    "    print('...done, {} bytes.'.format(nBytes))\n",
    "    return destination_filename"
   ]
  },
  {
   "cell_type": "code",
   "execution_count": 7,
   "metadata": {},
   "outputs": [
    {
     "name": "stdout",
     "output_type": "stream",
     "text": [
      "Blob name: daymet_v3_dayl_2010_na.nc4\n",
      "Blob name: daymet_v3_prcp_2010_na.nc4\n",
      "Blob name: daymet_v3_srad_2010_na.nc4\n",
      "Blob name: daymet_v3_swe_2010_na.nc4\n",
      "Blob name: daymet_v3_tmax_2010_na.nc4\n",
      "Blob name: daymet_v3_tmin_2010_na.nc4\n",
      "Blob name: daymet_v3_vp_2010_na.nc4\n"
     ]
    }
   ],
   "source": [
    "# pick region\n",
    "regions = ['na', 'hawaii', 'puertorico']\n",
    "\n",
    "state_of_interest = regions[0]\n",
    "year_of_interest = '2010'\n",
    "\n",
    "# List the blobs in the container\n",
    "generator = daymet_container_client.list_blobs()\n",
    "for blob in generator:\n",
    "    if state_of_interest in blob.name and year_of_interest in blob.name:\n",
    "        print('Blob name: ' + blob.name)"
   ]
  },
  {
   "cell_type": "code",
   "execution_count": null,
   "metadata": {},
   "outputs": [
    {
     "name": "stdout",
     "output_type": "stream",
     "text": [
      "Downloading file daymet_v3_tmax_1980_na.nc4...done, 3111298259 bytes.\n",
      "Downloading file daymet_v3_tmax_1981_na.nc4...done, 3099286215 bytes.\n",
      "Downloading file daymet_v3_tmax_1982_na.nc4...done, 3107558409 bytes.\n",
      "Downloading file daymet_v3_tmax_1983_na.nc4...done, 3132572335 bytes.\n",
      "Downloading file daymet_v3_tmax_1984_na.nc4...done, 3119801859 bytes.\n",
      "Downloading file daymet_v3_tmax_1985_na.nc4...done, 3116877551 bytes.\n",
      "Downloading file daymet_v3_tmax_1986_na.nc4...done, 3106950590 bytes.\n",
      "Downloading file daymet_v3_tmax_1987_na.nc4...done, 3081535127 bytes.\n",
      "Downloading file daymet_v3_tmax_1988_na.nc4...done, 3114000055 bytes.\n",
      "Downloading file daymet_v3_tmax_1989_na.nc4...done, 3121633569 bytes.\n",
      "Downloading file daymet_v3_tmax_1990_na.nc4...done, 3121360112 bytes.\n",
      "Downloading file daymet_v3_tmax_1991_na.nc4"
     ]
    }
   ],
   "source": [
    "%%time\n",
    "variable = 'tmax'\n",
    "year = '2016'\n",
    "\n",
    "years = np.arange(1980,1982)\n",
    "for year in years:\n",
    "    # Choose your location.  The following are available: hawaii, na, puertorico.  The value 'na' stands for North America.\n",
    "    location = regions[0]\n",
    "\n",
    "    granule_name = f'daymet_v3_{variable}_{year}_{location}.nc4'\n",
    "    url = 'https://daymet.blob.core.windows.net/daymetv3-raw/' + granule_name\n",
    "\n",
    "    filename = download_url(url)"
   ]
  },
  {
   "cell_type": "code",
   "execution_count": 289,
   "metadata": {},
   "outputs": [],
   "source": [
    "'''\n",
    "run this if you are hoping to build your URL list\n",
    "'''\n",
    "url_list = []\n",
    "for i,s in subdf.iterrows():\n",
    "    tile_of_interest = [s['geometry'].y,s['geometry'].x]\n",
    "    tile_name = lat_lon_to_nasadem_tile(tile_of_interest[0],tile_of_interest[1])\n",
    "    url = azt.nasadem_blob_root + tile_name\n",
    "    url_list.append(url)\n",
    "subdf['DEM_URL'] = url_list"
   ]
  },
  {
   "cell_type": "markdown",
   "metadata": {},
   "source": [
    "# selecting by number of cells"
   ]
  },
  {
   "cell_type": "code",
   "execution_count": 301,
   "metadata": {},
   "outputs": [
    {
     "name": "stderr",
     "output_type": "stream",
     "text": [
      " 16% (4284416 of 26000267) |##           | Elapsed Time: 0:00:00 ETA:  00:00:00"
     ]
    },
    {
     "name": "stdout",
     "output_type": "stream",
     "text": [
      "Downloading file NASADEM_NC_n36w120.nc to /tmp/naip/https_nasadem.blob.core.windows.net_nasadem-nc_v001_NASADEM_NC_n36w120.nc"
     ]
    },
    {
     "name": "stderr",
     "output_type": "stream",
     "text": [
      "100% (26000267 of 26000267) |############| Elapsed Time: 0:00:00 Time:  0:00:00\n"
     ]
    },
    {
     "name": "stdout",
     "output_type": "stream",
     "text": [
      "...done, 26000267 bytes.\n",
      "Downloading file NASADEM_NC_n36w119.nc to /tmp/naip/https_nasadem.blob.core.windows.net_nasadem-nc_v001_NASADEM_NC_n36w119.nc"
     ]
    },
    {
     "name": "stderr",
     "output_type": "stream",
     "text": [
      "100% (26000267 of 26000267) |############| Elapsed Time: 0:00:00 Time:  0:00:00\n"
     ]
    },
    {
     "name": "stdout",
     "output_type": "stream",
     "text": [
      "...done, 26000267 bytes.\n"
     ]
    },
    {
     "name": "stderr",
     "output_type": "stream",
     "text": [
      "\r",
      "N/A% (0 of 26000267) |                   | Elapsed Time: 0:00:00 ETA:  --:--:--"
     ]
    },
    {
     "name": "stdout",
     "output_type": "stream",
     "text": [
      "Downloading file NASADEM_NC_n36w117.nc to /tmp/naip/https_nasadem.blob.core.windows.net_nasadem-nc_v001_NASADEM_NC_n36w117.nc"
     ]
    },
    {
     "name": "stderr",
     "output_type": "stream",
     "text": [
      "100% (26000267 of 26000267) |############| Elapsed Time: 0:00:00 Time:  0:00:00\n",
      "N/A% (0 of 26000267) |                   | Elapsed Time: 0:00:00 ETA:  --:--:--"
     ]
    },
    {
     "name": "stdout",
     "output_type": "stream",
     "text": [
      "...done, 26000267 bytes.\n",
      "Downloading file NASADEM_NC_n40w121.nc to /tmp/naip/https_nasadem.blob.core.windows.net_nasadem-nc_v001_NASADEM_NC_n40w121.nc"
     ]
    },
    {
     "name": "stderr",
     "output_type": "stream",
     "text": [
      "100% (26000267 of 26000267) |############| Elapsed Time: 0:00:00 Time:  0:00:00\n",
      "N/A% (0 of 26000267) |                   | Elapsed Time: 0:00:00 ETA:  --:--:--"
     ]
    },
    {
     "name": "stdout",
     "output_type": "stream",
     "text": [
      "...done, 26000267 bytes.\n",
      "Downloading file NASADEM_NC_n40w125.nc to /tmp/naip/https_nasadem.blob.core.windows.net_nasadem-nc_v001_NASADEM_NC_n40w125.nc"
     ]
    },
    {
     "name": "stderr",
     "output_type": "stream",
     "text": [
      "100% (26000267 of 26000267) |############| Elapsed Time: 0:00:00 Time:  0:00:00\n"
     ]
    },
    {
     "name": "stdout",
     "output_type": "stream",
     "text": [
      "...done, 26000267 bytes.\n"
     ]
    },
    {
     "name": "stderr",
     "output_type": "stream",
     "text": [
      "\r",
      "N/A% (0 of 26000267) |                   | Elapsed Time: 0:00:00 ETA:  --:--:--"
     ]
    },
    {
     "name": "stdout",
     "output_type": "stream",
     "text": [
      "Downloading file NASADEM_NC_n40w122.nc to /tmp/naip/https_nasadem.blob.core.windows.net_nasadem-nc_v001_NASADEM_NC_n40w122.nc"
     ]
    },
    {
     "name": "stderr",
     "output_type": "stream",
     "text": [
      "100% (26000267 of 26000267) |############| Elapsed Time: 0:00:00 Time:  0:00:00\n"
     ]
    },
    {
     "name": "stdout",
     "output_type": "stream",
     "text": [
      "...done, 26000267 bytes.\n"
     ]
    },
    {
     "name": "stderr",
     "output_type": "stream",
     "text": [
      "\r",
      "N/A% (0 of 26000267) |                   | Elapsed Time: 0:00:00 ETA:  --:--:--"
     ]
    },
    {
     "name": "stdout",
     "output_type": "stream",
     "text": [
      "Downloading file NASADEM_NC_n33w117.nc to /tmp/naip/https_nasadem.blob.core.windows.net_nasadem-nc_v001_NASADEM_NC_n33w117.nc"
     ]
    },
    {
     "name": "stderr",
     "output_type": "stream",
     "text": [
      "100% (26000267 of 26000267) |############| Elapsed Time: 0:00:00 Time:  0:00:00\n"
     ]
    },
    {
     "name": "stdout",
     "output_type": "stream",
     "text": [
      "...done, 26000267 bytes.\n"
     ]
    },
    {
     "name": "stderr",
     "output_type": "stream",
     "text": [
      " 13% (3620864 of 26000267) |#            | Elapsed Time: 0:00:00 ETA:  00:00:00"
     ]
    },
    {
     "name": "stdout",
     "output_type": "stream",
     "text": [
      "Downloading file NASADEM_NC_n33w116.nc to /tmp/naip/https_nasadem.blob.core.windows.net_nasadem-nc_v001_NASADEM_NC_n33w116.nc"
     ]
    },
    {
     "name": "stderr",
     "output_type": "stream",
     "text": [
      "100% (26000267 of 26000267) |############| Elapsed Time: 0:00:00 Time:  0:00:00\n"
     ]
    },
    {
     "name": "stdout",
     "output_type": "stream",
     "text": [
      "...done, 26000267 bytes.\n",
      "Downloading file NASADEM_NC_n34w120.nc to /tmp/naip/https_nasadem.blob.core.windows.net_nasadem-nc_v001_NASADEM_NC_n34w120.nc"
     ]
    },
    {
     "name": "stderr",
     "output_type": "stream",
     "text": [
      "100% (26000267 of 26000267) |############| Elapsed Time: 0:00:00 Time:  0:00:00\n",
      "N/A% (0 of 26000267) |                   | Elapsed Time: 0:00:00 ETA:  --:--:--"
     ]
    },
    {
     "name": "stdout",
     "output_type": "stream",
     "text": [
      "...done, 26000267 bytes.\n",
      "Downloading file NASADEM_NC_n33w118.nc to /tmp/naip/https_nasadem.blob.core.windows.net_nasadem-nc_v001_NASADEM_NC_n33w118.nc"
     ]
    },
    {
     "name": "stderr",
     "output_type": "stream",
     "text": [
      "100% (26000267 of 26000267) |############| Elapsed Time: 0:00:00 Time:  0:00:00\n"
     ]
    },
    {
     "name": "stdout",
     "output_type": "stream",
     "text": [
      "...done, 26000267 bytes.\n"
     ]
    },
    {
     "name": "stderr",
     "output_type": "stream",
     "text": [
      " 16% (4284416 of 26000267) |##           | Elapsed Time: 0:00:00 ETA:  00:00:00"
     ]
    },
    {
     "name": "stdout",
     "output_type": "stream",
     "text": [
      "Downloading file NASADEM_NC_n34w119.nc to /tmp/naip/https_nasadem.blob.core.windows.net_nasadem-nc_v001_NASADEM_NC_n34w119.nc"
     ]
    },
    {
     "name": "stderr",
     "output_type": "stream",
     "text": [
      "100% (26000267 of 26000267) |############| Elapsed Time: 0:00:00 Time:  0:00:00\n"
     ]
    },
    {
     "name": "stdout",
     "output_type": "stream",
     "text": [
      "...done, 26000267 bytes.\n"
     ]
    },
    {
     "name": "stderr",
     "output_type": "stream",
     "text": [
      " 37% (9879552 of 26000267) |####         | Elapsed Time: 0:00:00 ETA:   0:00:00"
     ]
    },
    {
     "name": "stdout",
     "output_type": "stream",
     "text": [
      "Downloading file NASADEM_NC_n33w115.nc to /tmp/naip/https_nasadem.blob.core.windows.net_nasadem-nc_v001_NASADEM_NC_n33w115.nc"
     ]
    },
    {
     "name": "stderr",
     "output_type": "stream",
     "text": [
      "100% (26000267 of 26000267) |############| Elapsed Time: 0:00:00 Time:  0:00:00\n"
     ]
    },
    {
     "name": "stdout",
     "output_type": "stream",
     "text": [
      "...done, 26000267 bytes.\n"
     ]
    },
    {
     "name": "stderr",
     "output_type": "stream",
     "text": [
      " 16% (4284416 of 26000267) |##           | Elapsed Time: 0:00:00 ETA:  00:00:00"
     ]
    },
    {
     "name": "stdout",
     "output_type": "stream",
     "text": [
      "Downloading file NASADEM_NC_n34w118.nc to /tmp/naip/https_nasadem.blob.core.windows.net_nasadem-nc_v001_NASADEM_NC_n34w118.nc"
     ]
    },
    {
     "name": "stderr",
     "output_type": "stream",
     "text": [
      "100% (26000267 of 26000267) |############| Elapsed Time: 0:00:00 Time:  0:00:00\n"
     ]
    },
    {
     "name": "stdout",
     "output_type": "stream",
     "text": [
      "...done, 26000267 bytes.\n"
     ]
    },
    {
     "name": "stderr",
     "output_type": "stream",
     "text": [
      " 21% (5595136 of 26000267) |##           | Elapsed Time: 0:00:00 ETA:  00:00:00"
     ]
    },
    {
     "name": "stdout",
     "output_type": "stream",
     "text": [
      "Downloading file NASADEM_NC_n34w117.nc to /tmp/naip/https_nasadem.blob.core.windows.net_nasadem-nc_v001_NASADEM_NC_n34w117.nc"
     ]
    },
    {
     "name": "stderr",
     "output_type": "stream",
     "text": [
      "100% (26000267 of 26000267) |############| Elapsed Time: 0:00:00 Time:  0:00:00\n",
      "N/A% (0 of 26000267) |                   | Elapsed Time: 0:00:00 ETA:  --:--:--"
     ]
    },
    {
     "name": "stdout",
     "output_type": "stream",
     "text": [
      "...done, 26000267 bytes.\n",
      "Downloading file NASADEM_NC_n36w122.nc to /tmp/naip/https_nasadem.blob.core.windows.net_nasadem-nc_v001_NASADEM_NC_n36w122.nc"
     ]
    },
    {
     "name": "stderr",
     "output_type": "stream",
     "text": [
      "100% (26000267 of 26000267) |############| Elapsed Time: 0:00:00 Time:  0:00:00\n"
     ]
    },
    {
     "name": "stdout",
     "output_type": "stream",
     "text": [
      "...done, 26000267 bytes.\n"
     ]
    },
    {
     "name": "stderr",
     "output_type": "stream",
     "text": [
      " 16% (4284416 of 26000267) |##           | Elapsed Time: 0:00:00 ETA:  00:00:00"
     ]
    },
    {
     "name": "stdout",
     "output_type": "stream",
     "text": [
      "Downloading file NASADEM_NC_n34w116.nc to /tmp/naip/https_nasadem.blob.core.windows.net_nasadem-nc_v001_NASADEM_NC_n34w116.nc"
     ]
    },
    {
     "name": "stderr",
     "output_type": "stream",
     "text": [
      "100% (26000267 of 26000267) |############| Elapsed Time: 0:00:00 Time:  0:00:00\n"
     ]
    },
    {
     "name": "stdout",
     "output_type": "stream",
     "text": [
      "...done, 26000267 bytes.\n",
      "Downloading file NASADEM_NC_n34w115.nc to /tmp/naip/https_nasadem.blob.core.windows.net_nasadem-nc_v001_NASADEM_NC_n34w115.nc"
     ]
    },
    {
     "name": "stderr",
     "output_type": "stream",
     "text": [
      "100% (26000267 of 26000267) |############| Elapsed Time: 0:00:00 Time:  0:00:00\n"
     ]
    },
    {
     "name": "stdout",
     "output_type": "stream",
     "text": [
      "...done, 26000267 bytes.\n",
      "Downloading file NASADEM_NC_n34w121.nc to /tmp/naip/https_nasadem.blob.core.windows.net_nasadem-nc_v001_NASADEM_NC_n34w121.nc"
     ]
    },
    {
     "name": "stderr",
     "output_type": "stream",
     "text": [
      "100% (26000267 of 26000267) |############| Elapsed Time: 0:00:00 Time:  0:00:00\n"
     ]
    },
    {
     "name": "stdout",
     "output_type": "stream",
     "text": [
      "...done, 26000267 bytes.\n"
     ]
    },
    {
     "name": "stderr",
     "output_type": "stream",
     "text": [
      " 16% (4284416 of 26000267) |##           | Elapsed Time: 0:00:00 ETA:  00:00:00"
     ]
    },
    {
     "name": "stdout",
     "output_type": "stream",
     "text": [
      "Downloading file NASADEM_NC_n36w118.nc to /tmp/naip/https_nasadem.blob.core.windows.net_nasadem-nc_v001_NASADEM_NC_n36w118.nc"
     ]
    },
    {
     "name": "stderr",
     "output_type": "stream",
     "text": [
      "100% (26000267 of 26000267) |############| Elapsed Time: 0:00:00 Time:  0:00:00\n"
     ]
    },
    {
     "name": "stdout",
     "output_type": "stream",
     "text": [
      "...done, 26000267 bytes.\n",
      "Downloading file NASADEM_NC_n35w115.nc to /tmp/naip/https_nasadem.blob.core.windows.net_nasadem-nc_v001_NASADEM_NC_n35w115.nc"
     ]
    },
    {
     "name": "stderr",
     "output_type": "stream",
     "text": [
      "100% (26000267 of 26000267) |############| Elapsed Time: 0:00:00 Time:  0:00:00\n"
     ]
    },
    {
     "name": "stdout",
     "output_type": "stream",
     "text": [
      "...done, 26000267 bytes.\n",
      "Downloading file NASADEM_NC_n35w116.nc to /tmp/naip/https_nasadem.blob.core.windows.net_nasadem-nc_v001_NASADEM_NC_n35w116.nc"
     ]
    },
    {
     "name": "stderr",
     "output_type": "stream",
     "text": [
      "100% (26000267 of 26000267) |############| Elapsed Time: 0:00:00 Time:  0:00:00\n"
     ]
    },
    {
     "name": "stdout",
     "output_type": "stream",
     "text": [
      "...done, 26000267 bytes.\n",
      "Downloading file NASADEM_NC_n41w121.nc to /tmp/naip/https_nasadem.blob.core.windows.net_nasadem-nc_v001_NASADEM_NC_n41w121.nc"
     ]
    },
    {
     "name": "stderr",
     "output_type": "stream",
     "text": [
      "100% (26000267 of 26000267) |############| Elapsed Time: 0:00:00 Time:  0:00:00\n"
     ]
    },
    {
     "name": "stdout",
     "output_type": "stream",
     "text": [
      "...done, 26000267 bytes.\n",
      "Downloading file NASADEM_NC_n35w117.nc to /tmp/naip/https_nasadem.blob.core.windows.net_nasadem-nc_v001_NASADEM_NC_n35w117.nc"
     ]
    },
    {
     "name": "stderr",
     "output_type": "stream",
     "text": [
      "100% (26000267 of 26000267) |############| Elapsed Time: 0:00:00 Time:  0:00:00\n"
     ]
    },
    {
     "name": "stdout",
     "output_type": "stream",
     "text": [
      "...done, 26000267 bytes.\n",
      "Downloading file NASADEM_NC_n37w123.nc to /tmp/naip/https_nasadem.blob.core.windows.net_nasadem-nc_v001_NASADEM_NC_n37w123.nc"
     ]
    },
    {
     "name": "stderr",
     "output_type": "stream",
     "text": [
      "100% (26000267 of 26000267) |############| Elapsed Time: 0:00:00 Time:  0:00:00\n"
     ]
    },
    {
     "name": "stdout",
     "output_type": "stream",
     "text": [
      "...done, 26000267 bytes.\n"
     ]
    },
    {
     "name": "stderr",
     "output_type": "stream",
     "text": [
      " 16% (4284416 of 26000267) |##           | Elapsed Time: 0:00:00 ETA:  00:00:00"
     ]
    },
    {
     "name": "stdout",
     "output_type": "stream",
     "text": [
      "Downloading file NASADEM_NC_n32w117.nc to /tmp/naip/https_nasadem.blob.core.windows.net_nasadem-nc_v001_NASADEM_NC_n32w117.nc"
     ]
    },
    {
     "name": "stderr",
     "output_type": "stream",
     "text": [
      "100% (26000267 of 26000267) |############| Elapsed Time: 0:00:00 Time:  0:00:00\n"
     ]
    },
    {
     "name": "stdout",
     "output_type": "stream",
     "text": [
      "...done, 26000267 bytes.\n"
     ]
    },
    {
     "name": "stderr",
     "output_type": "stream",
     "text": [
      "\r",
      "N/A% (0 of 26000267) |                   | Elapsed Time: 0:00:00 ETA:  --:--:--"
     ]
    },
    {
     "name": "stdout",
     "output_type": "stream",
     "text": [
      "Downloading file NASADEM_NC_n39w123.nc to /tmp/naip/https_nasadem.blob.core.windows.net_nasadem-nc_v001_NASADEM_NC_n39w123.nc"
     ]
    },
    {
     "name": "stderr",
     "output_type": "stream",
     "text": [
      "100% (26000267 of 26000267) |############| Elapsed Time: 0:00:00 Time:  0:00:00\n"
     ]
    },
    {
     "name": "stdout",
     "output_type": "stream",
     "text": [
      "...done, 26000267 bytes.\n"
     ]
    },
    {
     "name": "stderr",
     "output_type": "stream",
     "text": [
      " 32% (8560640 of 26000267) |####         | Elapsed Time: 0:00:00 ETA:   0:00:00"
     ]
    },
    {
     "name": "stdout",
     "output_type": "stream",
     "text": [
      "Downloading file NASADEM_NC_n35w120.nc to /tmp/naip/https_nasadem.blob.core.windows.net_nasadem-nc_v001_NASADEM_NC_n35w120.nc"
     ]
    },
    {
     "name": "stderr",
     "output_type": "stream",
     "text": [
      "100% (26000267 of 26000267) |############| Elapsed Time: 0:00:00 Time:  0:00:00\n"
     ]
    },
    {
     "name": "stdout",
     "output_type": "stream",
     "text": [
      "...done, 26000267 bytes.\n"
     ]
    },
    {
     "name": "stderr",
     "output_type": "stream",
     "text": [
      " 22% (5931008 of 26000267) |##           | Elapsed Time: 0:00:00 ETA:  00:00:00"
     ]
    },
    {
     "name": "stdout",
     "output_type": "stream",
     "text": [
      "Downloading file NASADEM_NC_n38w120.nc to /tmp/naip/https_nasadem.blob.core.windows.net_nasadem-nc_v001_NASADEM_NC_n38w120.nc"
     ]
    },
    {
     "name": "stderr",
     "output_type": "stream",
     "text": [
      "100% (26000267 of 26000267) |############| Elapsed Time: 0:00:00 Time:  0:00:00\n"
     ]
    },
    {
     "name": "stdout",
     "output_type": "stream",
     "text": [
      "...done, 26000267 bytes.\n",
      "Downloading file NASADEM_NC_n39w122.nc to /tmp/naip/https_nasadem.blob.core.windows.net_nasadem-nc_v001_NASADEM_NC_n39w122.nc"
     ]
    },
    {
     "name": "stderr",
     "output_type": "stream",
     "text": [
      "100% (26000267 of 26000267) |############| Elapsed Time: 0:00:00 Time:  0:00:00\n"
     ]
    },
    {
     "name": "stdout",
     "output_type": "stream",
     "text": [
      "...done, 26000267 bytes.\n",
      "Downloading file NASADEM_NC_n41w122.nc to /tmp/naip/https_nasadem.blob.core.windows.net_nasadem-nc_v001_NASADEM_NC_n41w122.nc"
     ]
    },
    {
     "name": "stderr",
     "output_type": "stream",
     "text": [
      "100% (26000267 of 26000267) |############| Elapsed Time: 0:00:00 Time:  0:00:00\n"
     ]
    },
    {
     "name": "stdout",
     "output_type": "stream",
     "text": [
      "...done, 26000267 bytes.\n",
      "Downloading file NASADEM_NC_n38w123.nc to /tmp/naip/https_nasadem.blob.core.windows.net_nasadem-nc_v001_NASADEM_NC_n38w123.nc"
     ]
    },
    {
     "name": "stderr",
     "output_type": "stream",
     "text": [
      "100% (26000267 of 26000267) |############| Elapsed Time: 0:00:00 Time:  0:00:00\n"
     ]
    },
    {
     "name": "stdout",
     "output_type": "stream",
     "text": [
      "...done, 26000267 bytes.\n"
     ]
    },
    {
     "name": "stderr",
     "output_type": "stream",
     "text": [
      " 16% (4284416 of 26000267) |##           | Elapsed Time: 0:00:00 ETA:  00:00:00"
     ]
    },
    {
     "name": "stdout",
     "output_type": "stream",
     "text": [
      "Downloading file NASADEM_NC_n38w121.nc to /tmp/naip/https_nasadem.blob.core.windows.net_nasadem-nc_v001_NASADEM_NC_n38w121.nc"
     ]
    },
    {
     "name": "stderr",
     "output_type": "stream",
     "text": [
      "100% (26000267 of 26000267) |############| Elapsed Time: 0:00:00 Time:  0:00:00\n"
     ]
    },
    {
     "name": "stdout",
     "output_type": "stream",
     "text": [
      "...done, 26000267 bytes.\n",
      "Downloading file NASADEM_NC_n39w121.nc to /tmp/naip/https_nasadem.blob.core.windows.net_nasadem-nc_v001_NASADEM_NC_n39w121.nc"
     ]
    },
    {
     "name": "stderr",
     "output_type": "stream",
     "text": [
      "100% (26000267 of 26000267) |############| Elapsed Time: 0:00:00 Time:  0:00:00\n"
     ]
    },
    {
     "name": "stdout",
     "output_type": "stream",
     "text": [
      "...done, 26000267 bytes.\n",
      "Downloading file NASADEM_NC_n41w124.nc to /tmp/naip/https_nasadem.blob.core.windows.net_nasadem-nc_v001_NASADEM_NC_n41w124.nc"
     ]
    },
    {
     "name": "stderr",
     "output_type": "stream",
     "text": [
      "100% (26000267 of 26000267) |############| Elapsed Time: 0:00:00 Time:  0:00:00\n"
     ]
    },
    {
     "name": "stdout",
     "output_type": "stream",
     "text": [
      "...done, 26000267 bytes.\n"
     ]
    },
    {
     "name": "stderr",
     "output_type": "stream",
     "text": [
      " 16% (4284416 of 26000267) |##           | Elapsed Time: 0:00:00 ETA:  00:00:00"
     ]
    },
    {
     "name": "stdout",
     "output_type": "stream",
     "text": [
      "Downloading file NASADEM_NC_n35w121.nc to /tmp/naip/https_nasadem.blob.core.windows.net_nasadem-nc_v001_NASADEM_NC_n35w121.nc"
     ]
    },
    {
     "name": "stderr",
     "output_type": "stream",
     "text": [
      "100% (26000267 of 26000267) |############| Elapsed Time: 0:00:00 Time:  0:00:00\n"
     ]
    },
    {
     "name": "stdout",
     "output_type": "stream",
     "text": [
      "...done, 26000267 bytes.\n"
     ]
    },
    {
     "name": "stderr",
     "output_type": "stream",
     "text": [
      " 18% (4939776 of 26000267) |##           | Elapsed Time: 0:00:00 ETA:  00:00:00"
     ]
    },
    {
     "name": "stdout",
     "output_type": "stream",
     "text": [
      "Downloading file NASADEM_NC_n35w119.nc to /tmp/naip/https_nasadem.blob.core.windows.net_nasadem-nc_v001_NASADEM_NC_n35w119.nc"
     ]
    },
    {
     "name": "stderr",
     "output_type": "stream",
     "text": [
      "100% (26000267 of 26000267) |############| Elapsed Time: 0:00:00 Time:  0:00:00\n"
     ]
    },
    {
     "name": "stdout",
     "output_type": "stream",
     "text": [
      "...done, 26000267 bytes.\n"
     ]
    },
    {
     "name": "stderr",
     "output_type": "stream",
     "text": [
      " 41% (10862592 of 26000267) |#####       | Elapsed Time: 0:00:00 ETA:   0:00:00"
     ]
    },
    {
     "name": "stdout",
     "output_type": "stream",
     "text": [
      "Downloading file NASADEM_NC_n32w118.nc to /tmp/naip/https_nasadem.blob.core.windows.net_nasadem-nc_v001_NASADEM_NC_n32w118.nc"
     ]
    },
    {
     "name": "stderr",
     "output_type": "stream",
     "text": [
      "100% (26000267 of 26000267) |############| Elapsed Time: 0:00:00 Time:  0:00:00\n"
     ]
    },
    {
     "name": "stdout",
     "output_type": "stream",
     "text": [
      "...done, 26000267 bytes.\n"
     ]
    },
    {
     "name": "stderr",
     "output_type": "stream",
     "text": [
      " 16% (4284416 of 26000267) |##           | Elapsed Time: 0:00:00 ETA:  00:00:00"
     ]
    },
    {
     "name": "stdout",
     "output_type": "stream",
     "text": [
      "Downloading file NASADEM_NC_n41w123.nc to /tmp/naip/https_nasadem.blob.core.windows.net_nasadem-nc_v001_NASADEM_NC_n41w123.nc"
     ]
    },
    {
     "name": "stderr",
     "output_type": "stream",
     "text": [
      "100% (26000267 of 26000267) |############| Elapsed Time: 0:00:00 Time:  0:00:00\n"
     ]
    },
    {
     "name": "stdout",
     "output_type": "stream",
     "text": [
      "...done, 26000267 bytes.\n"
     ]
    },
    {
     "name": "stderr",
     "output_type": "stream",
     "text": [
      " 30% (7905280 of 26000267) |###          | Elapsed Time: 0:00:00 ETA:  00:00:00"
     ]
    },
    {
     "name": "stdout",
     "output_type": "stream",
     "text": [
      "Downloading file NASADEM_NC_n37w119.nc to /tmp/naip/https_nasadem.blob.core.windows.net_nasadem-nc_v001_NASADEM_NC_n37w119.nc"
     ]
    },
    {
     "name": "stderr",
     "output_type": "stream",
     "text": [
      "100% (26000267 of 26000267) |############| Elapsed Time: 0:00:00 Time:  0:00:00\n",
      "N/A% (0 of 26000267) |                   | Elapsed Time: 0:00:00 ETA:  --:--:--"
     ]
    },
    {
     "name": "stdout",
     "output_type": "stream",
     "text": [
      "...done, 26000267 bytes.\n",
      "Downloading file NASADEM_NC_n37w122.nc to /tmp/naip/https_nasadem.blob.core.windows.net_nasadem-nc_v001_NASADEM_NC_n37w122.nc"
     ]
    },
    {
     "name": "stderr",
     "output_type": "stream",
     "text": [
      "100% (26000267 of 26000267) |############| Elapsed Time: 0:00:00 Time:  0:00:00\n"
     ]
    },
    {
     "name": "stdout",
     "output_type": "stream",
     "text": [
      "...done, 26000267 bytes.\n",
      "Downloading file NASADEM_NC_n35w118.nc to /tmp/naip/https_nasadem.blob.core.windows.net_nasadem-nc_v001_NASADEM_NC_n35w118.nc"
     ]
    },
    {
     "name": "stderr",
     "output_type": "stream",
     "text": [
      "100% (26000267 of 26000267) |############| Elapsed Time: 0:00:00 Time:  0:00:00\n"
     ]
    },
    {
     "name": "stdout",
     "output_type": "stream",
     "text": [
      "...done, 26000267 bytes.\n",
      "Downloading file NASADEM_NC_n37w120.nc to /tmp/naip/https_nasadem.blob.core.windows.net_nasadem-nc_v001_NASADEM_NC_n37w120.nc"
     ]
    },
    {
     "name": "stderr",
     "output_type": "stream",
     "text": [
      "100% (26000267 of 26000267) |############| Elapsed Time: 0:00:00 Time:  0:00:00\n"
     ]
    },
    {
     "name": "stdout",
     "output_type": "stream",
     "text": [
      "...done, 26000267 bytes.\n"
     ]
    },
    {
     "name": "stderr",
     "output_type": "stream",
     "text": [
      " 16% (4284416 of 26000267) |##           | Elapsed Time: 0:00:00 ETA:  00:00:00"
     ]
    },
    {
     "name": "stdout",
     "output_type": "stream",
     "text": [
      "Downloading file NASADEM_NC_n37w121.nc to /tmp/naip/https_nasadem.blob.core.windows.net_nasadem-nc_v001_NASADEM_NC_n37w121.nc"
     ]
    },
    {
     "name": "stderr",
     "output_type": "stream",
     "text": [
      "100% (26000267 of 26000267) |############| Elapsed Time: 0:00:00 Time:  0:00:00\n"
     ]
    },
    {
     "name": "stdout",
     "output_type": "stream",
     "text": [
      "...done, 26000267 bytes.\n"
     ]
    },
    {
     "name": "stderr",
     "output_type": "stream",
     "text": [
      " 49% (12836864 of 26000267) |#####       | Elapsed Time: 0:00:00 ETA:   0:00:00"
     ]
    },
    {
     "name": "stdout",
     "output_type": "stream",
     "text": [
      "Downloading file NASADEM_NC_n33w120.nc to /tmp/naip/https_nasadem.blob.core.windows.net_nasadem-nc_v001_NASADEM_NC_n33w120.nc"
     ]
    },
    {
     "name": "stderr",
     "output_type": "stream",
     "text": [
      "100% (26000267 of 26000267) |############| Elapsed Time: 0:00:00 Time:  0:00:00\n"
     ]
    },
    {
     "name": "stdout",
     "output_type": "stream",
     "text": [
      "...done, 26000267 bytes.\n"
     ]
    },
    {
     "name": "stderr",
     "output_type": "stream",
     "text": [
      " 16% (4284416 of 26000267) |##           | Elapsed Time: 0:00:00 ETA:  00:00:00"
     ]
    },
    {
     "name": "stdout",
     "output_type": "stream",
     "text": [
      "Downloading file NASADEM_NC_n39w124.nc to /tmp/naip/https_nasadem.blob.core.windows.net_nasadem-nc_v001_NASADEM_NC_n39w124.nc"
     ]
    },
    {
     "name": "stderr",
     "output_type": "stream",
     "text": [
      "100% (26000267 of 26000267) |############| Elapsed Time: 0:00:00 Time:  0:00:00\n"
     ]
    },
    {
     "name": "stdout",
     "output_type": "stream",
     "text": [
      "...done, 26000267 bytes.\n",
      "Downloading file NASADEM_NC_n32w116.nc to /tmp/naip/https_nasadem.blob.core.windows.net_nasadem-nc_v001_NASADEM_NC_n32w116.nc"
     ]
    },
    {
     "name": "stderr",
     "output_type": "stream",
     "text": [
      "100% (26000267 of 26000267) |############| Elapsed Time: 0:00:00 Time:  0:00:00\n"
     ]
    },
    {
     "name": "stdout",
     "output_type": "stream",
     "text": [
      "...done, 26000267 bytes.\n"
     ]
    },
    {
     "name": "stderr",
     "output_type": "stream",
     "text": [
      " 43% (11190272 of 26000267) |#####       | Elapsed Time: 0:00:00 ETA:   0:00:00"
     ]
    },
    {
     "name": "stdout",
     "output_type": "stream",
     "text": [
      "Downloading file NASADEM_NC_n36w123.nc to /tmp/naip/https_nasadem.blob.core.windows.net_nasadem-nc_v001_NASADEM_NC_n36w123.nc"
     ]
    },
    {
     "name": "stderr",
     "output_type": "stream",
     "text": [
      "100% (26000267 of 26000267) |############| Elapsed Time: 0:00:00 Time:  0:00:00\n"
     ]
    },
    {
     "name": "stdout",
     "output_type": "stream",
     "text": [
      "...done, 26000267 bytes.\n"
     ]
    },
    {
     "name": "stderr",
     "output_type": "stream",
     "text": [
      " 49% (12836864 of 26000267) |#####       | Elapsed Time: 0:00:00 ETA:   0:00:00"
     ]
    },
    {
     "name": "stdout",
     "output_type": "stream",
     "text": [
      "Downloading file NASADEM_NC_n41w125.nc to /tmp/naip/https_nasadem.blob.core.windows.net_nasadem-nc_v001_NASADEM_NC_n41w125.nc"
     ]
    },
    {
     "name": "stderr",
     "output_type": "stream",
     "text": [
      "100% (26000267 of 26000267) |############| Elapsed Time: 0:00:00 Time:  0:00:00\n"
     ]
    },
    {
     "name": "stdout",
     "output_type": "stream",
     "text": [
      "...done, 26000267 bytes.\n"
     ]
    },
    {
     "name": "stderr",
     "output_type": "stream",
     "text": [
      " 39% (10207232 of 26000267) |####        | Elapsed Time: 0:00:00 ETA:   0:00:00"
     ]
    },
    {
     "name": "stdout",
     "output_type": "stream",
     "text": [
      "Downloading file NASADEM_NC_n32w115.nc to /tmp/naip/https_nasadem.blob.core.windows.net_nasadem-nc_v001_NASADEM_NC_n32w115.nc"
     ]
    },
    {
     "name": "stderr",
     "output_type": "stream",
     "text": [
      "100% (26000267 of 26000267) |############| Elapsed Time: 0:00:00 Time:  0:00:00\n",
      "N/A% (0 of 26000267) |                   | Elapsed Time: 0:00:00 ETA:  --:--:--"
     ]
    },
    {
     "name": "stdout",
     "output_type": "stream",
     "text": [
      "...done, 26000267 bytes.\n",
      "Downloading file NASADEM_NC_n37w118.nc to /tmp/naip/https_nasadem.blob.core.windows.net_nasadem-nc_v001_NASADEM_NC_n37w118.nc"
     ]
    },
    {
     "name": "stderr",
     "output_type": "stream",
     "text": [
      "100% (26000267 of 26000267) |############| Elapsed Time: 0:00:00 Time:  0:00:00\n"
     ]
    },
    {
     "name": "stdout",
     "output_type": "stream",
     "text": [
      "...done, 26000267 bytes.\n"
     ]
    },
    {
     "name": "stderr",
     "output_type": "stream",
     "text": [
      " 20% (5267456 of 26000267) |##           | Elapsed Time: 0:00:00 ETA:  00:00:00"
     ]
    },
    {
     "name": "stdout",
     "output_type": "stream",
     "text": [
      "Downloading file NASADEM_NC_n32w119.nc to /tmp/naip/https_nasadem.blob.core.windows.net_nasadem-nc_v001_NASADEM_NC_n32w119.nc"
     ]
    },
    {
     "name": "stderr",
     "output_type": "stream",
     "text": [
      "100% (26000267 of 26000267) |############| Elapsed Time: 0:00:00 Time:  0:00:00\n"
     ]
    },
    {
     "name": "stdout",
     "output_type": "stream",
     "text": [
      "...done, 26000267 bytes.\n"
     ]
    },
    {
     "name": "stderr",
     "output_type": "stream",
     "text": [
      " 25% (6586368 of 26000267) |###          | Elapsed Time: 0:00:00 ETA:  00:00:00"
     ]
    },
    {
     "name": "stdout",
     "output_type": "stream",
     "text": [
      "Downloading file NASADEM_NC_n38w124.nc to /tmp/naip/https_nasadem.blob.core.windows.net_nasadem-nc_v001_NASADEM_NC_n38w124.nc"
     ]
    },
    {
     "name": "stderr",
     "output_type": "stream",
     "text": [
      "100% (26000267 of 26000267) |############| Elapsed Time: 0:00:00 Time:  0:00:00\n"
     ]
    },
    {
     "name": "stdout",
     "output_type": "stream",
     "text": [
      "...done, 26000267 bytes.\n"
     ]
    },
    {
     "name": "stderr",
     "output_type": "stream",
     "text": [
      " 49% (12836864 of 26000267) |#####       | Elapsed Time: 0:00:00 ETA:   0:00:00"
     ]
    },
    {
     "name": "stdout",
     "output_type": "stream",
     "text": [
      "Downloading file NASADEM_NC_n33w119.nc to /tmp/naip/https_nasadem.blob.core.windows.net_nasadem-nc_v001_NASADEM_NC_n33w119.nc"
     ]
    },
    {
     "name": "stderr",
     "output_type": "stream",
     "text": [
      "100% (26000267 of 26000267) |############| Elapsed Time: 0:00:00 Time:  0:00:00\n"
     ]
    },
    {
     "name": "stdout",
     "output_type": "stream",
     "text": [
      "...done, 26000267 bytes.\n"
     ]
    },
    {
     "name": "stderr",
     "output_type": "stream",
     "text": [
      " 32% (8560640 of 26000267) |####         | Elapsed Time: 0:00:00 ETA:  00:00:00"
     ]
    },
    {
     "name": "stdout",
     "output_type": "stream",
     "text": [
      "Downloading file NASADEM_NC_n35w122.nc to /tmp/naip/https_nasadem.blob.core.windows.net_nasadem-nc_v001_NASADEM_NC_n35w122.nc"
     ]
    },
    {
     "name": "stderr",
     "output_type": "stream",
     "text": [
      "100% (26000267 of 26000267) |############| Elapsed Time: 0:00:00 Time:  0:00:00\n"
     ]
    },
    {
     "name": "stdout",
     "output_type": "stream",
     "text": [
      "...done, 26000267 bytes.\n"
     ]
    },
    {
     "name": "stderr",
     "output_type": "stream",
     "text": [
      " 16% (4284416 of 26000267) |##           | Elapsed Time: 0:00:00 ETA:  00:00:00"
     ]
    },
    {
     "name": "stdout",
     "output_type": "stream",
     "text": [
      "Downloading file NASADEM_NC_n38w119.nc to /tmp/naip/https_nasadem.blob.core.windows.net_nasadem-nc_v001_NASADEM_NC_n38w119.nc"
     ]
    },
    {
     "name": "stderr",
     "output_type": "stream",
     "text": [
      "100% (26000267 of 26000267) |############| Elapsed Time: 0:00:00 Time:  0:00:00\n"
     ]
    },
    {
     "name": "stdout",
     "output_type": "stream",
     "text": [
      "...done, 26000267 bytes.\n"
     ]
    },
    {
     "name": "stderr",
     "output_type": "stream",
     "text": [
      " 16% (4284416 of 26000267) |##           | Elapsed Time: 0:00:00 ETA:  00:00:00"
     ]
    },
    {
     "name": "stdout",
     "output_type": "stream",
     "text": [
      "Downloading file NASADEM_NC_n42w123.nc to /tmp/naip/https_nasadem.blob.core.windows.net_nasadem-nc_v001_NASADEM_NC_n42w123.nc"
     ]
    },
    {
     "name": "stderr",
     "output_type": "stream",
     "text": [
      "100% (26000267 of 26000267) |############| Elapsed Time: 0:00:00 Time:  0:00:00\n"
     ]
    },
    {
     "name": "stdout",
     "output_type": "stream",
     "text": [
      "...done, 26000267 bytes.\n"
     ]
    },
    {
     "name": "stderr",
     "output_type": "stream",
     "text": [
      " 49% (12836864 of 26000267) |#####       | Elapsed Time: 0:00:00 ETA:   0:00:00"
     ]
    },
    {
     "name": "stdout",
     "output_type": "stream",
     "text": [
      "Downloading file NASADEM_NC_n33w121.nc to /tmp/naip/https_nasadem.blob.core.windows.net_nasadem-nc_v001_NASADEM_NC_n33w121.nc"
     ]
    },
    {
     "name": "stderr",
     "output_type": "stream",
     "text": [
      "100% (26000267 of 26000267) |############| Elapsed Time: 0:00:00 Time:  0:00:00\n"
     ]
    },
    {
     "name": "stdout",
     "output_type": "stream",
     "text": [
      "...done, 26000267 bytes.\n"
     ]
    },
    {
     "name": "stderr",
     "output_type": "stream",
     "text": [
      " 49% (12836864 of 26000267) |#####       | Elapsed Time: 0:00:00 ETA:   0:00:00"
     ]
    },
    {
     "name": "stdout",
     "output_type": "stream",
     "text": [
      "Downloading file NASADEM_NC_n37w124.nc to /tmp/naip/https_nasadem.blob.core.windows.net_nasadem-nc_v001_NASADEM_NC_n37w124.nc"
     ]
    },
    {
     "name": "stderr",
     "output_type": "stream",
     "text": [
      "100% (26000267 of 26000267) |############| Elapsed Time: 0:00:00 Time:  0:00:00\n"
     ]
    },
    {
     "name": "stdout",
     "output_type": "stream",
     "text": [
      "...done, 26000267 bytes.\n"
     ]
    },
    {
     "name": "stderr",
     "output_type": "stream",
     "text": [
      " 49% (12836864 of 26000267) |#####       | Elapsed Time: 0:00:00 ETA:   0:00:00"
     ]
    },
    {
     "name": "stdout",
     "output_type": "stream",
     "text": [
      "Downloading file NASADEM_NC_n39w125.nc to /tmp/naip/https_nasadem.blob.core.windows.net_nasadem-nc_v001_NASADEM_NC_n39w125.nc"
     ]
    },
    {
     "name": "stderr",
     "output_type": "stream",
     "text": [
      "100% (26000267 of 26000267) |############| Elapsed Time: 0:00:00 Time:  0:00:00\n"
     ]
    },
    {
     "name": "stdout",
     "output_type": "stream",
     "text": [
      "...done, 26000267 bytes.\n"
     ]
    },
    {
     "name": "stderr",
     "output_type": "stream",
     "text": [
      " 16% (4284416 of 26000267) |##           | Elapsed Time: 0:00:00 ETA:  00:00:00"
     ]
    },
    {
     "name": "stdout",
     "output_type": "stream",
     "text": [
      "Downloading file NASADEM_NC_n40w120.nc to /tmp/naip/https_nasadem.blob.core.windows.net_nasadem-nc_v001_NASADEM_NC_n40w120.nc"
     ]
    },
    {
     "name": "stderr",
     "output_type": "stream",
     "text": [
      "100% (26000267 of 26000267) |############| Elapsed Time: 0:00:00 Time:  0:00:00\n"
     ]
    },
    {
     "name": "stdout",
     "output_type": "stream",
     "text": [
      "...done, 26000267 bytes.\n"
     ]
    },
    {
     "name": "stderr",
     "output_type": "stream",
     "text": [
      "\r",
      "N/A% (0 of 26000267) |                   | Elapsed Time: 0:00:00 ETA:  --:--:--"
     ]
    },
    {
     "name": "stdout",
     "output_type": "stream",
     "text": [
      "Downloading file NASADEM_NC_n36w116.nc to /tmp/naip/https_nasadem.blob.core.windows.net_nasadem-nc_v001_NASADEM_NC_n36w116.nc"
     ]
    },
    {
     "name": "stderr",
     "output_type": "stream",
     "text": [
      "100% (26000267 of 26000267) |############| Elapsed Time: 0:00:00 Time:  0:00:00\n"
     ]
    },
    {
     "name": "stdout",
     "output_type": "stream",
     "text": [
      "...done, 26000267 bytes.\n"
     ]
    }
   ],
   "source": [
    "'''\n",
    "if we want to select by number of cells around the center point\n",
    "'''\n",
    "cell_buffer = 10\n",
    "if not os.path.exists(f'{blob}/training_tiles/NASADEM/{query}'):\n",
    "    os.makedirs(f'{blob}/training_tiles/NASADEM/{query}')\n",
    "    \n",
    "for sample_index in range(len(subdf)):\n",
    "    sample_point = gpd.GeoDataFrame(subdf.iloc[sample_index]).T\n",
    "    sample_point.crs = {'init':'epsg:4269'}\n",
    "    tile_of_interest = [sample_point.geometry.y.values[0], sample_point.geometry.x.values[0]]\n",
    "    tile_name = azt.lat_lon_to_nasadem_tile(tile_of_interest[0],\\\n",
    "                                            tile_of_interest[1],\\\n",
    "                                            nasadem_file_list)\n",
    "    url = azt.nasadem_blob_root + tile_name\n",
    "    fn = azt.download_url(url,progress_updater = azt.DownloadProgressBar())\n",
    "    fh = xr.open_dataset(fn, engine='h5netcdf')\n",
    "    yi = np.argmin(np.abs(fh.lat - float(sample_point['LAT'])).values)\n",
    "    xi = np.argmin(np.abs(fh.lon - float(sample_point['LON'])).values)\n",
    "    #set the area around those point defined as c\n",
    "    data_chunk = fh.isel(lat=slice(yi-cell_buffer,yi+cell_buffer),\\\n",
    "                       lon=slice(xi-cell_buffer,xi+cell_buffer))\n",
    "    \n",
    "    \n",
    "    outfilename = f'{blob}/training_tiles/NASADEM/{query}/{sample_point.INDEX.values[0]}.nc'\n",
    "    data_chunk.to_netcdf(outfilename)"
   ]
  },
  {
   "cell_type": "markdown",
   "metadata": {},
   "source": [
    "# selecting by distance"
   ]
  },
  {
   "cell_type": "code",
   "execution_count": 301,
   "metadata": {},
   "outputs": [
    {
     "name": "stderr",
     "output_type": "stream",
     "text": [
      " 16% (4284416 of 26000267) |##           | Elapsed Time: 0:00:00 ETA:  00:00:00"
     ]
    },
    {
     "name": "stdout",
     "output_type": "stream",
     "text": [
      "Downloading file NASADEM_NC_n36w120.nc to /tmp/naip/https_nasadem.blob.core.windows.net_nasadem-nc_v001_NASADEM_NC_n36w120.nc"
     ]
    },
    {
     "name": "stderr",
     "output_type": "stream",
     "text": [
      "100% (26000267 of 26000267) |############| Elapsed Time: 0:00:00 Time:  0:00:00\n"
     ]
    },
    {
     "name": "stdout",
     "output_type": "stream",
     "text": [
      "...done, 26000267 bytes.\n",
      "Downloading file NASADEM_NC_n36w119.nc to /tmp/naip/https_nasadem.blob.core.windows.net_nasadem-nc_v001_NASADEM_NC_n36w119.nc"
     ]
    },
    {
     "name": "stderr",
     "output_type": "stream",
     "text": [
      "100% (26000267 of 26000267) |############| Elapsed Time: 0:00:00 Time:  0:00:00\n"
     ]
    },
    {
     "name": "stdout",
     "output_type": "stream",
     "text": [
      "...done, 26000267 bytes.\n"
     ]
    },
    {
     "name": "stderr",
     "output_type": "stream",
     "text": [
      "\r",
      "N/A% (0 of 26000267) |                   | Elapsed Time: 0:00:00 ETA:  --:--:--"
     ]
    },
    {
     "name": "stdout",
     "output_type": "stream",
     "text": [
      "Downloading file NASADEM_NC_n36w117.nc to /tmp/naip/https_nasadem.blob.core.windows.net_nasadem-nc_v001_NASADEM_NC_n36w117.nc"
     ]
    },
    {
     "name": "stderr",
     "output_type": "stream",
     "text": [
      "100% (26000267 of 26000267) |############| Elapsed Time: 0:00:00 Time:  0:00:00\n",
      "N/A% (0 of 26000267) |                   | Elapsed Time: 0:00:00 ETA:  --:--:--"
     ]
    },
    {
     "name": "stdout",
     "output_type": "stream",
     "text": [
      "...done, 26000267 bytes.\n",
      "Downloading file NASADEM_NC_n40w121.nc to /tmp/naip/https_nasadem.blob.core.windows.net_nasadem-nc_v001_NASADEM_NC_n40w121.nc"
     ]
    },
    {
     "name": "stderr",
     "output_type": "stream",
     "text": [
      "100% (26000267 of 26000267) |############| Elapsed Time: 0:00:00 Time:  0:00:00\n",
      "N/A% (0 of 26000267) |                   | Elapsed Time: 0:00:00 ETA:  --:--:--"
     ]
    },
    {
     "name": "stdout",
     "output_type": "stream",
     "text": [
      "...done, 26000267 bytes.\n",
      "Downloading file NASADEM_NC_n40w125.nc to /tmp/naip/https_nasadem.blob.core.windows.net_nasadem-nc_v001_NASADEM_NC_n40w125.nc"
     ]
    },
    {
     "name": "stderr",
     "output_type": "stream",
     "text": [
      "100% (26000267 of 26000267) |############| Elapsed Time: 0:00:00 Time:  0:00:00\n"
     ]
    },
    {
     "name": "stdout",
     "output_type": "stream",
     "text": [
      "...done, 26000267 bytes.\n"
     ]
    },
    {
     "name": "stderr",
     "output_type": "stream",
     "text": [
      "\r",
      "N/A% (0 of 26000267) |                   | Elapsed Time: 0:00:00 ETA:  --:--:--"
     ]
    },
    {
     "name": "stdout",
     "output_type": "stream",
     "text": [
      "Downloading file NASADEM_NC_n40w122.nc to /tmp/naip/https_nasadem.blob.core.windows.net_nasadem-nc_v001_NASADEM_NC_n40w122.nc"
     ]
    },
    {
     "name": "stderr",
     "output_type": "stream",
     "text": [
      "100% (26000267 of 26000267) |############| Elapsed Time: 0:00:00 Time:  0:00:00\n"
     ]
    },
    {
     "name": "stdout",
     "output_type": "stream",
     "text": [
      "...done, 26000267 bytes.\n"
     ]
    },
    {
     "name": "stderr",
     "output_type": "stream",
     "text": [
      "\r",
      "N/A% (0 of 26000267) |                   | Elapsed Time: 0:00:00 ETA:  --:--:--"
     ]
    },
    {
     "name": "stdout",
     "output_type": "stream",
     "text": [
      "Downloading file NASADEM_NC_n33w117.nc to /tmp/naip/https_nasadem.blob.core.windows.net_nasadem-nc_v001_NASADEM_NC_n33w117.nc"
     ]
    },
    {
     "name": "stderr",
     "output_type": "stream",
     "text": [
      "100% (26000267 of 26000267) |############| Elapsed Time: 0:00:00 Time:  0:00:00\n"
     ]
    },
    {
     "name": "stdout",
     "output_type": "stream",
     "text": [
      "...done, 26000267 bytes.\n"
     ]
    },
    {
     "name": "stderr",
     "output_type": "stream",
     "text": [
      " 13% (3620864 of 26000267) |#            | Elapsed Time: 0:00:00 ETA:  00:00:00"
     ]
    },
    {
     "name": "stdout",
     "output_type": "stream",
     "text": [
      "Downloading file NASADEM_NC_n33w116.nc to /tmp/naip/https_nasadem.blob.core.windows.net_nasadem-nc_v001_NASADEM_NC_n33w116.nc"
     ]
    },
    {
     "name": "stderr",
     "output_type": "stream",
     "text": [
      "100% (26000267 of 26000267) |############| Elapsed Time: 0:00:00 Time:  0:00:00\n"
     ]
    },
    {
     "name": "stdout",
     "output_type": "stream",
     "text": [
      "...done, 26000267 bytes.\n",
      "Downloading file NASADEM_NC_n34w120.nc to /tmp/naip/https_nasadem.blob.core.windows.net_nasadem-nc_v001_NASADEM_NC_n34w120.nc"
     ]
    },
    {
     "name": "stderr",
     "output_type": "stream",
     "text": [
      "100% (26000267 of 26000267) |############| Elapsed Time: 0:00:00 Time:  0:00:00\n",
      "N/A% (0 of 26000267) |                   | Elapsed Time: 0:00:00 ETA:  --:--:--"
     ]
    },
    {
     "name": "stdout",
     "output_type": "stream",
     "text": [
      "...done, 26000267 bytes.\n",
      "Downloading file NASADEM_NC_n33w118.nc to /tmp/naip/https_nasadem.blob.core.windows.net_nasadem-nc_v001_NASADEM_NC_n33w118.nc"
     ]
    },
    {
     "name": "stderr",
     "output_type": "stream",
     "text": [
      "100% (26000267 of 26000267) |############| Elapsed Time: 0:00:00 Time:  0:00:00\n"
     ]
    },
    {
     "name": "stdout",
     "output_type": "stream",
     "text": [
      "...done, 26000267 bytes.\n"
     ]
    },
    {
     "name": "stderr",
     "output_type": "stream",
     "text": [
      " 16% (4284416 of 26000267) |##           | Elapsed Time: 0:00:00 ETA:  00:00:00"
     ]
    },
    {
     "name": "stdout",
     "output_type": "stream",
     "text": [
      "Downloading file NASADEM_NC_n34w119.nc to /tmp/naip/https_nasadem.blob.core.windows.net_nasadem-nc_v001_NASADEM_NC_n34w119.nc"
     ]
    },
    {
     "name": "stderr",
     "output_type": "stream",
     "text": [
      "100% (26000267 of 26000267) |############| Elapsed Time: 0:00:00 Time:  0:00:00\n"
     ]
    },
    {
     "name": "stdout",
     "output_type": "stream",
     "text": [
      "...done, 26000267 bytes.\n"
     ]
    },
    {
     "name": "stderr",
     "output_type": "stream",
     "text": [
      " 37% (9879552 of 26000267) |####         | Elapsed Time: 0:00:00 ETA:   0:00:00"
     ]
    },
    {
     "name": "stdout",
     "output_type": "stream",
     "text": [
      "Downloading file NASADEM_NC_n33w115.nc to /tmp/naip/https_nasadem.blob.core.windows.net_nasadem-nc_v001_NASADEM_NC_n33w115.nc"
     ]
    },
    {
     "name": "stderr",
     "output_type": "stream",
     "text": [
      "100% (26000267 of 26000267) |############| Elapsed Time: 0:00:00 Time:  0:00:00\n"
     ]
    },
    {
     "name": "stdout",
     "output_type": "stream",
     "text": [
      "...done, 26000267 bytes.\n"
     ]
    },
    {
     "name": "stderr",
     "output_type": "stream",
     "text": [
      " 16% (4284416 of 26000267) |##           | Elapsed Time: 0:00:00 ETA:  00:00:00"
     ]
    },
    {
     "name": "stdout",
     "output_type": "stream",
     "text": [
      "Downloading file NASADEM_NC_n34w118.nc to /tmp/naip/https_nasadem.blob.core.windows.net_nasadem-nc_v001_NASADEM_NC_n34w118.nc"
     ]
    },
    {
     "name": "stderr",
     "output_type": "stream",
     "text": [
      "100% (26000267 of 26000267) |############| Elapsed Time: 0:00:00 Time:  0:00:00\n"
     ]
    },
    {
     "name": "stdout",
     "output_type": "stream",
     "text": [
      "...done, 26000267 bytes.\n"
     ]
    },
    {
     "name": "stderr",
     "output_type": "stream",
     "text": [
      " 21% (5595136 of 26000267) |##           | Elapsed Time: 0:00:00 ETA:  00:00:00"
     ]
    },
    {
     "name": "stdout",
     "output_type": "stream",
     "text": [
      "Downloading file NASADEM_NC_n34w117.nc to /tmp/naip/https_nasadem.blob.core.windows.net_nasadem-nc_v001_NASADEM_NC_n34w117.nc"
     ]
    },
    {
     "name": "stderr",
     "output_type": "stream",
     "text": [
      "100% (26000267 of 26000267) |############| Elapsed Time: 0:00:00 Time:  0:00:00\n",
      "N/A% (0 of 26000267) |                   | Elapsed Time: 0:00:00 ETA:  --:--:--"
     ]
    },
    {
     "name": "stdout",
     "output_type": "stream",
     "text": [
      "...done, 26000267 bytes.\n",
      "Downloading file NASADEM_NC_n36w122.nc to /tmp/naip/https_nasadem.blob.core.windows.net_nasadem-nc_v001_NASADEM_NC_n36w122.nc"
     ]
    },
    {
     "name": "stderr",
     "output_type": "stream",
     "text": [
      "100% (26000267 of 26000267) |############| Elapsed Time: 0:00:00 Time:  0:00:00\n"
     ]
    },
    {
     "name": "stdout",
     "output_type": "stream",
     "text": [
      "...done, 26000267 bytes.\n"
     ]
    },
    {
     "name": "stderr",
     "output_type": "stream",
     "text": [
      " 16% (4284416 of 26000267) |##           | Elapsed Time: 0:00:00 ETA:  00:00:00"
     ]
    },
    {
     "name": "stdout",
     "output_type": "stream",
     "text": [
      "Downloading file NASADEM_NC_n34w116.nc to /tmp/naip/https_nasadem.blob.core.windows.net_nasadem-nc_v001_NASADEM_NC_n34w116.nc"
     ]
    },
    {
     "name": "stderr",
     "output_type": "stream",
     "text": [
      "100% (26000267 of 26000267) |############| Elapsed Time: 0:00:00 Time:  0:00:00\n"
     ]
    },
    {
     "name": "stdout",
     "output_type": "stream",
     "text": [
      "...done, 26000267 bytes.\n",
      "Downloading file NASADEM_NC_n34w115.nc to /tmp/naip/https_nasadem.blob.core.windows.net_nasadem-nc_v001_NASADEM_NC_n34w115.nc"
     ]
    },
    {
     "name": "stderr",
     "output_type": "stream",
     "text": [
      "100% (26000267 of 26000267) |############| Elapsed Time: 0:00:00 Time:  0:00:00\n"
     ]
    },
    {
     "name": "stdout",
     "output_type": "stream",
     "text": [
      "...done, 26000267 bytes.\n",
      "Downloading file NASADEM_NC_n34w121.nc to /tmp/naip/https_nasadem.blob.core.windows.net_nasadem-nc_v001_NASADEM_NC_n34w121.nc"
     ]
    },
    {
     "name": "stderr",
     "output_type": "stream",
     "text": [
      "100% (26000267 of 26000267) |############| Elapsed Time: 0:00:00 Time:  0:00:00\n"
     ]
    },
    {
     "name": "stdout",
     "output_type": "stream",
     "text": [
      "...done, 26000267 bytes.\n"
     ]
    },
    {
     "name": "stderr",
     "output_type": "stream",
     "text": [
      " 16% (4284416 of 26000267) |##           | Elapsed Time: 0:00:00 ETA:  00:00:00"
     ]
    },
    {
     "name": "stdout",
     "output_type": "stream",
     "text": [
      "Downloading file NASADEM_NC_n36w118.nc to /tmp/naip/https_nasadem.blob.core.windows.net_nasadem-nc_v001_NASADEM_NC_n36w118.nc"
     ]
    },
    {
     "name": "stderr",
     "output_type": "stream",
     "text": [
      "100% (26000267 of 26000267) |############| Elapsed Time: 0:00:00 Time:  0:00:00\n"
     ]
    },
    {
     "name": "stdout",
     "output_type": "stream",
     "text": [
      "...done, 26000267 bytes.\n",
      "Downloading file NASADEM_NC_n35w115.nc to /tmp/naip/https_nasadem.blob.core.windows.net_nasadem-nc_v001_NASADEM_NC_n35w115.nc"
     ]
    },
    {
     "name": "stderr",
     "output_type": "stream",
     "text": [
      "100% (26000267 of 26000267) |############| Elapsed Time: 0:00:00 Time:  0:00:00\n"
     ]
    },
    {
     "name": "stdout",
     "output_type": "stream",
     "text": [
      "...done, 26000267 bytes.\n",
      "Downloading file NASADEM_NC_n35w116.nc to /tmp/naip/https_nasadem.blob.core.windows.net_nasadem-nc_v001_NASADEM_NC_n35w116.nc"
     ]
    },
    {
     "name": "stderr",
     "output_type": "stream",
     "text": [
      "100% (26000267 of 26000267) |############| Elapsed Time: 0:00:00 Time:  0:00:00\n"
     ]
    },
    {
     "name": "stdout",
     "output_type": "stream",
     "text": [
      "...done, 26000267 bytes.\n",
      "Downloading file NASADEM_NC_n41w121.nc to /tmp/naip/https_nasadem.blob.core.windows.net_nasadem-nc_v001_NASADEM_NC_n41w121.nc"
     ]
    },
    {
     "name": "stderr",
     "output_type": "stream",
     "text": [
      "100% (26000267 of 26000267) |############| Elapsed Time: 0:00:00 Time:  0:00:00\n"
     ]
    },
    {
     "name": "stdout",
     "output_type": "stream",
     "text": [
      "...done, 26000267 bytes.\n",
      "Downloading file NASADEM_NC_n35w117.nc to /tmp/naip/https_nasadem.blob.core.windows.net_nasadem-nc_v001_NASADEM_NC_n35w117.nc"
     ]
    },
    {
     "name": "stderr",
     "output_type": "stream",
     "text": [
      "100% (26000267 of 26000267) |############| Elapsed Time: 0:00:00 Time:  0:00:00\n"
     ]
    },
    {
     "name": "stdout",
     "output_type": "stream",
     "text": [
      "...done, 26000267 bytes.\n",
      "Downloading file NASADEM_NC_n37w123.nc to /tmp/naip/https_nasadem.blob.core.windows.net_nasadem-nc_v001_NASADEM_NC_n37w123.nc"
     ]
    },
    {
     "name": "stderr",
     "output_type": "stream",
     "text": [
      "100% (26000267 of 26000267) |############| Elapsed Time: 0:00:00 Time:  0:00:00\n"
     ]
    },
    {
     "name": "stdout",
     "output_type": "stream",
     "text": [
      "...done, 26000267 bytes.\n"
     ]
    },
    {
     "name": "stderr",
     "output_type": "stream",
     "text": [
      " 16% (4284416 of 26000267) |##           | Elapsed Time: 0:00:00 ETA:  00:00:00"
     ]
    },
    {
     "name": "stdout",
     "output_type": "stream",
     "text": [
      "Downloading file NASADEM_NC_n32w117.nc to /tmp/naip/https_nasadem.blob.core.windows.net_nasadem-nc_v001_NASADEM_NC_n32w117.nc"
     ]
    },
    {
     "name": "stderr",
     "output_type": "stream",
     "text": [
      "100% (26000267 of 26000267) |############| Elapsed Time: 0:00:00 Time:  0:00:00\n"
     ]
    },
    {
     "name": "stdout",
     "output_type": "stream",
     "text": [
      "...done, 26000267 bytes.\n"
     ]
    },
    {
     "name": "stderr",
     "output_type": "stream",
     "text": [
      "\r",
      "N/A% (0 of 26000267) |                   | Elapsed Time: 0:00:00 ETA:  --:--:--"
     ]
    },
    {
     "name": "stdout",
     "output_type": "stream",
     "text": [
      "Downloading file NASADEM_NC_n39w123.nc to /tmp/naip/https_nasadem.blob.core.windows.net_nasadem-nc_v001_NASADEM_NC_n39w123.nc"
     ]
    },
    {
     "name": "stderr",
     "output_type": "stream",
     "text": [
      "100% (26000267 of 26000267) |############| Elapsed Time: 0:00:00 Time:  0:00:00\n"
     ]
    },
    {
     "name": "stdout",
     "output_type": "stream",
     "text": [
      "...done, 26000267 bytes.\n"
     ]
    },
    {
     "name": "stderr",
     "output_type": "stream",
     "text": [
      " 32% (8560640 of 26000267) |####         | Elapsed Time: 0:00:00 ETA:   0:00:00"
     ]
    },
    {
     "name": "stdout",
     "output_type": "stream",
     "text": [
      "Downloading file NASADEM_NC_n35w120.nc to /tmp/naip/https_nasadem.blob.core.windows.net_nasadem-nc_v001_NASADEM_NC_n35w120.nc"
     ]
    },
    {
     "name": "stderr",
     "output_type": "stream",
     "text": [
      "100% (26000267 of 26000267) |############| Elapsed Time: 0:00:00 Time:  0:00:00\n"
     ]
    },
    {
     "name": "stdout",
     "output_type": "stream",
     "text": [
      "...done, 26000267 bytes.\n"
     ]
    },
    {
     "name": "stderr",
     "output_type": "stream",
     "text": [
      " 22% (5931008 of 26000267) |##           | Elapsed Time: 0:00:00 ETA:  00:00:00"
     ]
    },
    {
     "name": "stdout",
     "output_type": "stream",
     "text": [
      "Downloading file NASADEM_NC_n38w120.nc to /tmp/naip/https_nasadem.blob.core.windows.net_nasadem-nc_v001_NASADEM_NC_n38w120.nc"
     ]
    },
    {
     "name": "stderr",
     "output_type": "stream",
     "text": [
      "100% (26000267 of 26000267) |############| Elapsed Time: 0:00:00 Time:  0:00:00\n"
     ]
    },
    {
     "name": "stdout",
     "output_type": "stream",
     "text": [
      "...done, 26000267 bytes.\n",
      "Downloading file NASADEM_NC_n39w122.nc to /tmp/naip/https_nasadem.blob.core.windows.net_nasadem-nc_v001_NASADEM_NC_n39w122.nc"
     ]
    },
    {
     "name": "stderr",
     "output_type": "stream",
     "text": [
      "100% (26000267 of 26000267) |############| Elapsed Time: 0:00:00 Time:  0:00:00\n"
     ]
    },
    {
     "name": "stdout",
     "output_type": "stream",
     "text": [
      "...done, 26000267 bytes.\n",
      "Downloading file NASADEM_NC_n41w122.nc to /tmp/naip/https_nasadem.blob.core.windows.net_nasadem-nc_v001_NASADEM_NC_n41w122.nc"
     ]
    },
    {
     "name": "stderr",
     "output_type": "stream",
     "text": [
      "100% (26000267 of 26000267) |############| Elapsed Time: 0:00:00 Time:  0:00:00\n"
     ]
    },
    {
     "name": "stdout",
     "output_type": "stream",
     "text": [
      "...done, 26000267 bytes.\n",
      "Downloading file NASADEM_NC_n38w123.nc to /tmp/naip/https_nasadem.blob.core.windows.net_nasadem-nc_v001_NASADEM_NC_n38w123.nc"
     ]
    },
    {
     "name": "stderr",
     "output_type": "stream",
     "text": [
      "100% (26000267 of 26000267) |############| Elapsed Time: 0:00:00 Time:  0:00:00\n"
     ]
    },
    {
     "name": "stdout",
     "output_type": "stream",
     "text": [
      "...done, 26000267 bytes.\n"
     ]
    },
    {
     "name": "stderr",
     "output_type": "stream",
     "text": [
      " 16% (4284416 of 26000267) |##           | Elapsed Time: 0:00:00 ETA:  00:00:00"
     ]
    },
    {
     "name": "stdout",
     "output_type": "stream",
     "text": [
      "Downloading file NASADEM_NC_n38w121.nc to /tmp/naip/https_nasadem.blob.core.windows.net_nasadem-nc_v001_NASADEM_NC_n38w121.nc"
     ]
    },
    {
     "name": "stderr",
     "output_type": "stream",
     "text": [
      "100% (26000267 of 26000267) |############| Elapsed Time: 0:00:00 Time:  0:00:00\n"
     ]
    },
    {
     "name": "stdout",
     "output_type": "stream",
     "text": [
      "...done, 26000267 bytes.\n",
      "Downloading file NASADEM_NC_n39w121.nc to /tmp/naip/https_nasadem.blob.core.windows.net_nasadem-nc_v001_NASADEM_NC_n39w121.nc"
     ]
    },
    {
     "name": "stderr",
     "output_type": "stream",
     "text": [
      "100% (26000267 of 26000267) |############| Elapsed Time: 0:00:00 Time:  0:00:00\n"
     ]
    },
    {
     "name": "stdout",
     "output_type": "stream",
     "text": [
      "...done, 26000267 bytes.\n",
      "Downloading file NASADEM_NC_n41w124.nc to /tmp/naip/https_nasadem.blob.core.windows.net_nasadem-nc_v001_NASADEM_NC_n41w124.nc"
     ]
    },
    {
     "name": "stderr",
     "output_type": "stream",
     "text": [
      "100% (26000267 of 26000267) |############| Elapsed Time: 0:00:00 Time:  0:00:00\n"
     ]
    },
    {
     "name": "stdout",
     "output_type": "stream",
     "text": [
      "...done, 26000267 bytes.\n"
     ]
    },
    {
     "name": "stderr",
     "output_type": "stream",
     "text": [
      " 16% (4284416 of 26000267) |##           | Elapsed Time: 0:00:00 ETA:  00:00:00"
     ]
    },
    {
     "name": "stdout",
     "output_type": "stream",
     "text": [
      "Downloading file NASADEM_NC_n35w121.nc to /tmp/naip/https_nasadem.blob.core.windows.net_nasadem-nc_v001_NASADEM_NC_n35w121.nc"
     ]
    },
    {
     "name": "stderr",
     "output_type": "stream",
     "text": [
      "100% (26000267 of 26000267) |############| Elapsed Time: 0:00:00 Time:  0:00:00\n"
     ]
    },
    {
     "name": "stdout",
     "output_type": "stream",
     "text": [
      "...done, 26000267 bytes.\n"
     ]
    },
    {
     "name": "stderr",
     "output_type": "stream",
     "text": [
      " 18% (4939776 of 26000267) |##           | Elapsed Time: 0:00:00 ETA:  00:00:00"
     ]
    },
    {
     "name": "stdout",
     "output_type": "stream",
     "text": [
      "Downloading file NASADEM_NC_n35w119.nc to /tmp/naip/https_nasadem.blob.core.windows.net_nasadem-nc_v001_NASADEM_NC_n35w119.nc"
     ]
    },
    {
     "name": "stderr",
     "output_type": "stream",
     "text": [
      "100% (26000267 of 26000267) |############| Elapsed Time: 0:00:00 Time:  0:00:00\n"
     ]
    },
    {
     "name": "stdout",
     "output_type": "stream",
     "text": [
      "...done, 26000267 bytes.\n"
     ]
    },
    {
     "name": "stderr",
     "output_type": "stream",
     "text": [
      " 41% (10862592 of 26000267) |#####       | Elapsed Time: 0:00:00 ETA:   0:00:00"
     ]
    },
    {
     "name": "stdout",
     "output_type": "stream",
     "text": [
      "Downloading file NASADEM_NC_n32w118.nc to /tmp/naip/https_nasadem.blob.core.windows.net_nasadem-nc_v001_NASADEM_NC_n32w118.nc"
     ]
    },
    {
     "name": "stderr",
     "output_type": "stream",
     "text": [
      "100% (26000267 of 26000267) |############| Elapsed Time: 0:00:00 Time:  0:00:00\n"
     ]
    },
    {
     "name": "stdout",
     "output_type": "stream",
     "text": [
      "...done, 26000267 bytes.\n"
     ]
    },
    {
     "name": "stderr",
     "output_type": "stream",
     "text": [
      " 16% (4284416 of 26000267) |##           | Elapsed Time: 0:00:00 ETA:  00:00:00"
     ]
    },
    {
     "name": "stdout",
     "output_type": "stream",
     "text": [
      "Downloading file NASADEM_NC_n41w123.nc to /tmp/naip/https_nasadem.blob.core.windows.net_nasadem-nc_v001_NASADEM_NC_n41w123.nc"
     ]
    },
    {
     "name": "stderr",
     "output_type": "stream",
     "text": [
      "100% (26000267 of 26000267) |############| Elapsed Time: 0:00:00 Time:  0:00:00\n"
     ]
    },
    {
     "name": "stdout",
     "output_type": "stream",
     "text": [
      "...done, 26000267 bytes.\n"
     ]
    },
    {
     "name": "stderr",
     "output_type": "stream",
     "text": [
      " 30% (7905280 of 26000267) |###          | Elapsed Time: 0:00:00 ETA:  00:00:00"
     ]
    },
    {
     "name": "stdout",
     "output_type": "stream",
     "text": [
      "Downloading file NASADEM_NC_n37w119.nc to /tmp/naip/https_nasadem.blob.core.windows.net_nasadem-nc_v001_NASADEM_NC_n37w119.nc"
     ]
    },
    {
     "name": "stderr",
     "output_type": "stream",
     "text": [
      "100% (26000267 of 26000267) |############| Elapsed Time: 0:00:00 Time:  0:00:00\n",
      "N/A% (0 of 26000267) |                   | Elapsed Time: 0:00:00 ETA:  --:--:--"
     ]
    },
    {
     "name": "stdout",
     "output_type": "stream",
     "text": [
      "...done, 26000267 bytes.\n",
      "Downloading file NASADEM_NC_n37w122.nc to /tmp/naip/https_nasadem.blob.core.windows.net_nasadem-nc_v001_NASADEM_NC_n37w122.nc"
     ]
    },
    {
     "name": "stderr",
     "output_type": "stream",
     "text": [
      "100% (26000267 of 26000267) |############| Elapsed Time: 0:00:00 Time:  0:00:00\n"
     ]
    },
    {
     "name": "stdout",
     "output_type": "stream",
     "text": [
      "...done, 26000267 bytes.\n",
      "Downloading file NASADEM_NC_n35w118.nc to /tmp/naip/https_nasadem.blob.core.windows.net_nasadem-nc_v001_NASADEM_NC_n35w118.nc"
     ]
    },
    {
     "name": "stderr",
     "output_type": "stream",
     "text": [
      "100% (26000267 of 26000267) |############| Elapsed Time: 0:00:00 Time:  0:00:00\n"
     ]
    },
    {
     "name": "stdout",
     "output_type": "stream",
     "text": [
      "...done, 26000267 bytes.\n",
      "Downloading file NASADEM_NC_n37w120.nc to /tmp/naip/https_nasadem.blob.core.windows.net_nasadem-nc_v001_NASADEM_NC_n37w120.nc"
     ]
    },
    {
     "name": "stderr",
     "output_type": "stream",
     "text": [
      "100% (26000267 of 26000267) |############| Elapsed Time: 0:00:00 Time:  0:00:00\n"
     ]
    },
    {
     "name": "stdout",
     "output_type": "stream",
     "text": [
      "...done, 26000267 bytes.\n"
     ]
    },
    {
     "name": "stderr",
     "output_type": "stream",
     "text": [
      " 16% (4284416 of 26000267) |##           | Elapsed Time: 0:00:00 ETA:  00:00:00"
     ]
    },
    {
     "name": "stdout",
     "output_type": "stream",
     "text": [
      "Downloading file NASADEM_NC_n37w121.nc to /tmp/naip/https_nasadem.blob.core.windows.net_nasadem-nc_v001_NASADEM_NC_n37w121.nc"
     ]
    },
    {
     "name": "stderr",
     "output_type": "stream",
     "text": [
      "100% (26000267 of 26000267) |############| Elapsed Time: 0:00:00 Time:  0:00:00\n"
     ]
    },
    {
     "name": "stdout",
     "output_type": "stream",
     "text": [
      "...done, 26000267 bytes.\n"
     ]
    },
    {
     "name": "stderr",
     "output_type": "stream",
     "text": [
      " 49% (12836864 of 26000267) |#####       | Elapsed Time: 0:00:00 ETA:   0:00:00"
     ]
    },
    {
     "name": "stdout",
     "output_type": "stream",
     "text": [
      "Downloading file NASADEM_NC_n33w120.nc to /tmp/naip/https_nasadem.blob.core.windows.net_nasadem-nc_v001_NASADEM_NC_n33w120.nc"
     ]
    },
    {
     "name": "stderr",
     "output_type": "stream",
     "text": [
      "100% (26000267 of 26000267) |############| Elapsed Time: 0:00:00 Time:  0:00:00\n"
     ]
    },
    {
     "name": "stdout",
     "output_type": "stream",
     "text": [
      "...done, 26000267 bytes.\n"
     ]
    },
    {
     "name": "stderr",
     "output_type": "stream",
     "text": [
      " 16% (4284416 of 26000267) |##           | Elapsed Time: 0:00:00 ETA:  00:00:00"
     ]
    },
    {
     "name": "stdout",
     "output_type": "stream",
     "text": [
      "Downloading file NASADEM_NC_n39w124.nc to /tmp/naip/https_nasadem.blob.core.windows.net_nasadem-nc_v001_NASADEM_NC_n39w124.nc"
     ]
    },
    {
     "name": "stderr",
     "output_type": "stream",
     "text": [
      "100% (26000267 of 26000267) |############| Elapsed Time: 0:00:00 Time:  0:00:00\n"
     ]
    },
    {
     "name": "stdout",
     "output_type": "stream",
     "text": [
      "...done, 26000267 bytes.\n",
      "Downloading file NASADEM_NC_n32w116.nc to /tmp/naip/https_nasadem.blob.core.windows.net_nasadem-nc_v001_NASADEM_NC_n32w116.nc"
     ]
    },
    {
     "name": "stderr",
     "output_type": "stream",
     "text": [
      "100% (26000267 of 26000267) |############| Elapsed Time: 0:00:00 Time:  0:00:00\n"
     ]
    },
    {
     "name": "stdout",
     "output_type": "stream",
     "text": [
      "...done, 26000267 bytes.\n"
     ]
    },
    {
     "name": "stderr",
     "output_type": "stream",
     "text": [
      " 43% (11190272 of 26000267) |#####       | Elapsed Time: 0:00:00 ETA:   0:00:00"
     ]
    },
    {
     "name": "stdout",
     "output_type": "stream",
     "text": [
      "Downloading file NASADEM_NC_n36w123.nc to /tmp/naip/https_nasadem.blob.core.windows.net_nasadem-nc_v001_NASADEM_NC_n36w123.nc"
     ]
    },
    {
     "name": "stderr",
     "output_type": "stream",
     "text": [
      "100% (26000267 of 26000267) |############| Elapsed Time: 0:00:00 Time:  0:00:00\n"
     ]
    },
    {
     "name": "stdout",
     "output_type": "stream",
     "text": [
      "...done, 26000267 bytes.\n"
     ]
    },
    {
     "name": "stderr",
     "output_type": "stream",
     "text": [
      " 49% (12836864 of 26000267) |#####       | Elapsed Time: 0:00:00 ETA:   0:00:00"
     ]
    },
    {
     "name": "stdout",
     "output_type": "stream",
     "text": [
      "Downloading file NASADEM_NC_n41w125.nc to /tmp/naip/https_nasadem.blob.core.windows.net_nasadem-nc_v001_NASADEM_NC_n41w125.nc"
     ]
    },
    {
     "name": "stderr",
     "output_type": "stream",
     "text": [
      "100% (26000267 of 26000267) |############| Elapsed Time: 0:00:00 Time:  0:00:00\n"
     ]
    },
    {
     "name": "stdout",
     "output_type": "stream",
     "text": [
      "...done, 26000267 bytes.\n"
     ]
    },
    {
     "name": "stderr",
     "output_type": "stream",
     "text": [
      " 39% (10207232 of 26000267) |####        | Elapsed Time: 0:00:00 ETA:   0:00:00"
     ]
    },
    {
     "name": "stdout",
     "output_type": "stream",
     "text": [
      "Downloading file NASADEM_NC_n32w115.nc to /tmp/naip/https_nasadem.blob.core.windows.net_nasadem-nc_v001_NASADEM_NC_n32w115.nc"
     ]
    },
    {
     "name": "stderr",
     "output_type": "stream",
     "text": [
      "100% (26000267 of 26000267) |############| Elapsed Time: 0:00:00 Time:  0:00:00\n",
      "N/A% (0 of 26000267) |                   | Elapsed Time: 0:00:00 ETA:  --:--:--"
     ]
    },
    {
     "name": "stdout",
     "output_type": "stream",
     "text": [
      "...done, 26000267 bytes.\n",
      "Downloading file NASADEM_NC_n37w118.nc to /tmp/naip/https_nasadem.blob.core.windows.net_nasadem-nc_v001_NASADEM_NC_n37w118.nc"
     ]
    },
    {
     "name": "stderr",
     "output_type": "stream",
     "text": [
      "100% (26000267 of 26000267) |############| Elapsed Time: 0:00:00 Time:  0:00:00\n"
     ]
    },
    {
     "name": "stdout",
     "output_type": "stream",
     "text": [
      "...done, 26000267 bytes.\n"
     ]
    },
    {
     "name": "stderr",
     "output_type": "stream",
     "text": [
      " 20% (5267456 of 26000267) |##           | Elapsed Time: 0:00:00 ETA:  00:00:00"
     ]
    },
    {
     "name": "stdout",
     "output_type": "stream",
     "text": [
      "Downloading file NASADEM_NC_n32w119.nc to /tmp/naip/https_nasadem.blob.core.windows.net_nasadem-nc_v001_NASADEM_NC_n32w119.nc"
     ]
    },
    {
     "name": "stderr",
     "output_type": "stream",
     "text": [
      "100% (26000267 of 26000267) |############| Elapsed Time: 0:00:00 Time:  0:00:00\n"
     ]
    },
    {
     "name": "stdout",
     "output_type": "stream",
     "text": [
      "...done, 26000267 bytes.\n"
     ]
    },
    {
     "name": "stderr",
     "output_type": "stream",
     "text": [
      " 25% (6586368 of 26000267) |###          | Elapsed Time: 0:00:00 ETA:  00:00:00"
     ]
    },
    {
     "name": "stdout",
     "output_type": "stream",
     "text": [
      "Downloading file NASADEM_NC_n38w124.nc to /tmp/naip/https_nasadem.blob.core.windows.net_nasadem-nc_v001_NASADEM_NC_n38w124.nc"
     ]
    },
    {
     "name": "stderr",
     "output_type": "stream",
     "text": [
      "100% (26000267 of 26000267) |############| Elapsed Time: 0:00:00 Time:  0:00:00\n"
     ]
    },
    {
     "name": "stdout",
     "output_type": "stream",
     "text": [
      "...done, 26000267 bytes.\n"
     ]
    },
    {
     "name": "stderr",
     "output_type": "stream",
     "text": [
      " 49% (12836864 of 26000267) |#####       | Elapsed Time: 0:00:00 ETA:   0:00:00"
     ]
    },
    {
     "name": "stdout",
     "output_type": "stream",
     "text": [
      "Downloading file NASADEM_NC_n33w119.nc to /tmp/naip/https_nasadem.blob.core.windows.net_nasadem-nc_v001_NASADEM_NC_n33w119.nc"
     ]
    },
    {
     "name": "stderr",
     "output_type": "stream",
     "text": [
      "100% (26000267 of 26000267) |############| Elapsed Time: 0:00:00 Time:  0:00:00\n"
     ]
    },
    {
     "name": "stdout",
     "output_type": "stream",
     "text": [
      "...done, 26000267 bytes.\n"
     ]
    },
    {
     "name": "stderr",
     "output_type": "stream",
     "text": [
      " 32% (8560640 of 26000267) |####         | Elapsed Time: 0:00:00 ETA:  00:00:00"
     ]
    },
    {
     "name": "stdout",
     "output_type": "stream",
     "text": [
      "Downloading file NASADEM_NC_n35w122.nc to /tmp/naip/https_nasadem.blob.core.windows.net_nasadem-nc_v001_NASADEM_NC_n35w122.nc"
     ]
    },
    {
     "name": "stderr",
     "output_type": "stream",
     "text": [
      "100% (26000267 of 26000267) |############| Elapsed Time: 0:00:00 Time:  0:00:00\n"
     ]
    },
    {
     "name": "stdout",
     "output_type": "stream",
     "text": [
      "...done, 26000267 bytes.\n"
     ]
    },
    {
     "name": "stderr",
     "output_type": "stream",
     "text": [
      " 16% (4284416 of 26000267) |##           | Elapsed Time: 0:00:00 ETA:  00:00:00"
     ]
    },
    {
     "name": "stdout",
     "output_type": "stream",
     "text": [
      "Downloading file NASADEM_NC_n38w119.nc to /tmp/naip/https_nasadem.blob.core.windows.net_nasadem-nc_v001_NASADEM_NC_n38w119.nc"
     ]
    },
    {
     "name": "stderr",
     "output_type": "stream",
     "text": [
      "100% (26000267 of 26000267) |############| Elapsed Time: 0:00:00 Time:  0:00:00\n"
     ]
    },
    {
     "name": "stdout",
     "output_type": "stream",
     "text": [
      "...done, 26000267 bytes.\n"
     ]
    },
    {
     "name": "stderr",
     "output_type": "stream",
     "text": [
      " 16% (4284416 of 26000267) |##           | Elapsed Time: 0:00:00 ETA:  00:00:00"
     ]
    },
    {
     "name": "stdout",
     "output_type": "stream",
     "text": [
      "Downloading file NASADEM_NC_n42w123.nc to /tmp/naip/https_nasadem.blob.core.windows.net_nasadem-nc_v001_NASADEM_NC_n42w123.nc"
     ]
    },
    {
     "name": "stderr",
     "output_type": "stream",
     "text": [
      "100% (26000267 of 26000267) |############| Elapsed Time: 0:00:00 Time:  0:00:00\n"
     ]
    },
    {
     "name": "stdout",
     "output_type": "stream",
     "text": [
      "...done, 26000267 bytes.\n"
     ]
    },
    {
     "name": "stderr",
     "output_type": "stream",
     "text": [
      " 49% (12836864 of 26000267) |#####       | Elapsed Time: 0:00:00 ETA:   0:00:00"
     ]
    },
    {
     "name": "stdout",
     "output_type": "stream",
     "text": [
      "Downloading file NASADEM_NC_n33w121.nc to /tmp/naip/https_nasadem.blob.core.windows.net_nasadem-nc_v001_NASADEM_NC_n33w121.nc"
     ]
    },
    {
     "name": "stderr",
     "output_type": "stream",
     "text": [
      "100% (26000267 of 26000267) |############| Elapsed Time: 0:00:00 Time:  0:00:00\n"
     ]
    },
    {
     "name": "stdout",
     "output_type": "stream",
     "text": [
      "...done, 26000267 bytes.\n"
     ]
    },
    {
     "name": "stderr",
     "output_type": "stream",
     "text": [
      " 49% (12836864 of 26000267) |#####       | Elapsed Time: 0:00:00 ETA:   0:00:00"
     ]
    },
    {
     "name": "stdout",
     "output_type": "stream",
     "text": [
      "Downloading file NASADEM_NC_n37w124.nc to /tmp/naip/https_nasadem.blob.core.windows.net_nasadem-nc_v001_NASADEM_NC_n37w124.nc"
     ]
    },
    {
     "name": "stderr",
     "output_type": "stream",
     "text": [
      "100% (26000267 of 26000267) |############| Elapsed Time: 0:00:00 Time:  0:00:00\n"
     ]
    },
    {
     "name": "stdout",
     "output_type": "stream",
     "text": [
      "...done, 26000267 bytes.\n"
     ]
    },
    {
     "name": "stderr",
     "output_type": "stream",
     "text": [
      " 49% (12836864 of 26000267) |#####       | Elapsed Time: 0:00:00 ETA:   0:00:00"
     ]
    },
    {
     "name": "stdout",
     "output_type": "stream",
     "text": [
      "Downloading file NASADEM_NC_n39w125.nc to /tmp/naip/https_nasadem.blob.core.windows.net_nasadem-nc_v001_NASADEM_NC_n39w125.nc"
     ]
    },
    {
     "name": "stderr",
     "output_type": "stream",
     "text": [
      "100% (26000267 of 26000267) |############| Elapsed Time: 0:00:00 Time:  0:00:00\n"
     ]
    },
    {
     "name": "stdout",
     "output_type": "stream",
     "text": [
      "...done, 26000267 bytes.\n"
     ]
    },
    {
     "name": "stderr",
     "output_type": "stream",
     "text": [
      " 16% (4284416 of 26000267) |##           | Elapsed Time: 0:00:00 ETA:  00:00:00"
     ]
    },
    {
     "name": "stdout",
     "output_type": "stream",
     "text": [
      "Downloading file NASADEM_NC_n40w120.nc to /tmp/naip/https_nasadem.blob.core.windows.net_nasadem-nc_v001_NASADEM_NC_n40w120.nc"
     ]
    },
    {
     "name": "stderr",
     "output_type": "stream",
     "text": [
      "100% (26000267 of 26000267) |############| Elapsed Time: 0:00:00 Time:  0:00:00\n"
     ]
    },
    {
     "name": "stdout",
     "output_type": "stream",
     "text": [
      "...done, 26000267 bytes.\n"
     ]
    },
    {
     "name": "stderr",
     "output_type": "stream",
     "text": [
      "\r",
      "N/A% (0 of 26000267) |                   | Elapsed Time: 0:00:00 ETA:  --:--:--"
     ]
    },
    {
     "name": "stdout",
     "output_type": "stream",
     "text": [
      "Downloading file NASADEM_NC_n36w116.nc to /tmp/naip/https_nasadem.blob.core.windows.net_nasadem-nc_v001_NASADEM_NC_n36w116.nc"
     ]
    },
    {
     "name": "stderr",
     "output_type": "stream",
     "text": [
      "100% (26000267 of 26000267) |############| Elapsed Time: 0:00:00 Time:  0:00:00\n"
     ]
    },
    {
     "name": "stdout",
     "output_type": "stream",
     "text": [
      "...done, 26000267 bytes.\n"
     ]
    }
   ],
   "source": [
    "'''\n",
    "if we want to select by distance around center point\n",
    "'''\n",
    "if not os.path.exists(f'{blob}/training_tiles/NASADEM/{query}'):\n",
    "    os.makedirs(f'{blob}/training_tiles/NASADEM/{query}')\n",
    "    \n",
    "#given we know the utm values can we go look around 1km?\n",
    "buffer_dist = 500 #500 meters both sides of the center for 1km image\n",
    "\n",
    "for sample_index in range(len(subdf)):\n",
    "    sample_point = gpd.GeoDataFrame(subdf.iloc[sample_index]).T\n",
    "    sample_point.crs = {'init':'epsg:4269'}\n",
    "    tile_of_interest = [sample_point.geometry.y.values[0], sample_point.geometry.x.values[0]]\n",
    "    tile_name = azt.lat_lon_to_nasadem_tile(tile_of_interest[0],\\\n",
    "                                            tile_of_interest[1],\\\n",
    "                                            nasadem_file_list)\n",
    "    url = azt.nasadem_blob_root + tile_name\n",
    "    fn = azt.download_url(url,progress_updater = azt.DownloadProgressBar())\n",
    "    fh = xr.open_dataset(fn, engine='h5netcdf')\n",
    "    \n",
    "    e_utm_values, n_utm_values, zone, hemi = utm.from_latlon(latitude=float(sample_point.geometry.y), \\\n",
    "                                                         longitude=float(sample_point.geometry.x))\n",
    "    bounds = {'miny':n_utm_values-buffer_dist, \\\n",
    "              'maxy':n_utm_values+buffer_dist, \\\n",
    "              'minx':e_utm_values-buffer_dist, \\\n",
    "              'maxx':e_utm_values+buffer_dist}\n",
    "    \n",
    "    bbox = {'lowerleft':(bounds['miny'], bounds['minx'], zone, hemi),\\\n",
    "            'upperleft':(bounds['maxy'], bounds['minx'], zone, hemi),\\\n",
    "            'upperright':(bounds['maxy'], bounds['maxx'], zone, hemi),\\\n",
    "            'lowerright':(bounds['miny'], bounds['maxx'], zone, hemi)}\n",
    "    #transform bounds to lat lon\n",
    "    \n",
    "    bbox_latlon = {k:utm.to_latlon(v[1], v[0], zone_number=v[2], zone_letter=v[3]) for k,v in bbox.items()}\n",
    "    minx, maxx, miny, maxy = bbox_latlon['lowerleft'][1],bbox_latlon['lowerright'][1],\\\n",
    "                            bbox_latlon['lowerleft'][0],bbox_latlon['upperright'][0]\n",
    "    minyi = np.argmin(np.abs(fh.lat - miny).values)\n",
    "    maxyi = np.argmin(np.abs(fh.lat - maxy).values)\n",
    "    minxi = np.argmin(np.abs(fh.lon - minx).values)\n",
    "    maxxi = np.argmin(np.abs(fh.lon - maxx).values)\n",
    "\n",
    "\n",
    "    #set the area around those point defined as c\n",
    "    data_chunk = fh.isel(lat=slice(maxyi, minyi),\\\n",
    "                   lon=slice(minxi, maxxi))\n",
    "\n",
    "    \n",
    "    \n",
    "    outfilename = f'{blob}/training_tiles/NASADEM/{query}/{sample_point.INDEX.values[0]}.nc'\n",
    "    data_chunk.to_netcdf(outfilename)"
   ]
  },
  {
   "cell_type": "code",
   "execution_count": 11,
   "metadata": {},
   "outputs": [
    {
     "name": "stdout",
     "output_type": "stream",
     "text": [
      "Height ranges from <xarray.DataArray 'NASADEM_HGT' ()>\n",
      "array(-18., dtype=float32) meters to <xarray.DataArray 'NASADEM_HGT' ()>\n",
      "array(3756., dtype=float32) meters\n"
     ]
    },
    {
     "data": {
      "image/png": "[encoded data removed]",
      "text/plain": [
       "<Figure size 432x288 with 2 Axes>"
      ]
     },
     "metadata": {
      "needs_background": "light"
     },
     "output_type": "display_data"
    }
   ],
   "source": [
    "fh = xr.open_dataset(fn, engine='h5netcdf')\n",
    "heights = fh['NASADEM_HGT'][:]\n",
    "lons = fh.variables['lon'][:]\n",
    "lats = fh.variables['lat'][:]\n",
    "\n",
    "min_height = np.min(heights)\n",
    "max_height = np.max(heights)\n",
    "height_units = fh['NASADEM_HGT'].units\n",
    "\n",
    "fh.close()\n",
    "\n",
    "print('Height ranges from {} {} to {} {}'.format(min_height,height_units,\n",
    "      max_height,height_units))\n",
    "\n",
    "extent = [np.min(lons), np.max(lons), np.min(lats), np.max(lats)]\n",
    "plt.imshow(heights,extent=extent)\n",
    "plt.xlabel('Longitude')\n",
    "plt.ylabel('Latitude')\n",
    "cb = plt.colorbar()\n",
    "cb.set_label('Height ({})'.format(height_units))"
   ]
  }
 ],
 "metadata": {
  "kernelspec": {
   "display_name": "Python 3",
   "language": "python",
   "name": "python3"
  },
  "language_info": {
   "codemirror_mode": {
    "name": "ipython",
    "version": 3
   },
   "file_extension": ".py",
   "mimetype": "text/x-python",
   "name": "python",
   "nbconvert_exporter": "python",
   "pygments_lexer": "ipython3",
   "version": "3.8.5"
  }
 },
 "nbformat": 4,
 "nbformat_minor": 2
}
