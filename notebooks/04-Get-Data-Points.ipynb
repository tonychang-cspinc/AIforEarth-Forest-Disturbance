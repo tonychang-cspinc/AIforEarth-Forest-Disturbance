{
 "cells": [
  {
   "cell_type": "code",
   "execution_count": 22,
   "metadata": {},
   "outputs": [
    {
     "name": "stdout",
     "output_type": "stream",
     "text": [
      "The autoreload extension is already loaded. To reload it, use:\n",
      "  %reload_ext autoreload\n"
     ]
    }
   ],
   "source": [
    "from glob import glob\n",
    "import pandas as pd\n",
    "import geopandas as gpd\n",
    "import ee\n",
    "import numpy as np\n",
    "from shapely.geometry import Point, Polygon\n",
    "import folium\n",
    "from folium.plugins import MarkerCluster\n",
    "import binascii\n",
    "import os\n",
    "import sys\n",
    "sys.path.append('/content')\n",
    "from src.tools import Mapdisplay, random_point_in_shp\n",
    "from src.tools import get_bound_points, generate_box_buffer, generate_ee_points\n",
    "import src.tools as tools\n",
    "\n",
    "ee.Initialize()\n",
    "%matplotlib inline\n",
    "%load_ext autoreload\n",
    "%autoreload 2"
   ]
  },
  {
   "cell_type": "markdown",
   "metadata": {},
   "source": [
    "# open FIA data points"
   ]
  },
  {
   "cell_type": "code",
   "execution_count": 11,
   "metadata": {},
   "outputs": [],
   "source": [
    "#import dask.dataframe as dd\n",
    "#fiafile='/datadrive/fia/supp_data/PLOT.zip'\n",
    "fiafile='/datadrive/fia/PNWRS_Annualized_Inventory_ActCoordinates_ChangMTA_200731.csv'\n",
    "#plot = dd.read_csv(plotfile, compression='zip')\n",
    "plots = gpd.GeoDataFrame(pd.read_csv(fiafile))\n",
    "plots.rename(columns={'ACTUAL_LAT':'LAT','ACTUAL_LON':'LON'}, inplace=True)\n",
    "#fiafile = './data/ALL_PLOTS_ACTUAL*'\n",
    "#points = gpd.read_file(glob(fiafile)[-1])\n",
    "plots.Latitude = plots.LAT.astype('float')\n",
    "plots.Longitude = plots.LON.astype('float')\n",
    "geometry = [Point(xy) for xy in zip(plots.Longitude, plots.Latitude)]\n",
    "crs = {'init': 'epsg:4326'} #http://www.spatialreference.org/ref/epsg/2263/\n",
    "geo_df = gpd.GeoDataFrame(plots, crs=crs, geometry=geometry)"
   ]
  },
  {
   "cell_type": "code",
   "execution_count": 70,
   "metadata": {},
   "outputs": [
    {
     "name": "stderr",
     "output_type": "stream",
     "text": [
      "/usr/local/lib/python3.8/dist-packages/geopandas/geodataframe.py:853: SettingWithCopyWarning: \n",
      "A value is trying to be set on a copy of a slice from a DataFrame.\n",
      "Try using .loc[row_indexer,col_indexer] = value instead\n",
      "\n",
      "See the caveats in the documentation: https://pandas.pydata.org/pandas-docs/stable/user_guide/indexing.html#returning-a-view-versus-a-copy\n",
      "  super(GeoDataFrame, self).__setitem__(key, value)\n"
     ]
    }
   ],
   "source": [
    "statecd = pd.read_csv(glob('/datadrive/fia/supp_data/*.csv')[0])\n",
    "query_invyr = 2006\n",
    "query_statecd = 6\n",
    "subset = geo_df[(geo_df['INVYR']==query_invyr) & (geo_df['STATECD']==query_statecd)]\n",
    "#add a uniq identifier to use as a relational database\n",
    "\n",
    "#subset['CN'] = subset['CN'].astype('str')\n",
    "subset['PLT_CN'] = subset['PLT_CN'].astype('str')\n",
    "batch_size = 10\n",
    "subset = subset.iloc[:batch_size]\n",
    "KEYSIZE = 16\n",
    "import random \n",
    "random.seed(1337)\n",
    "uid = [str(binascii.hexlify(os.urandom(KEYSIZE)), 'utf-8')\n",
    "        for i in range(batch_size)]\n",
    "subset['UNIQID'] = uid\n",
    "#subset['UNIQID'] = [str(uuid.uuid1()) for i in range(len(subset))]"
   ]
  },
  {
   "cell_type": "markdown",
   "metadata": {},
   "source": [
    "# let's run a sample for all the NAIP first and see how many batches we can do it in"
   ]
  },
  {
   "cell_type": "code",
   "execution_count": 72,
   "metadata": {},
   "outputs": [
    {
     "name": "stderr",
     "output_type": "stream",
     "text": [
      "/usr/local/lib/python3.8/dist-packages/pyproj/crs/crs.py:53: FutureWarning: '+init=<authority>:<code>' syntax is deprecated. '<authority>:<code>' is the preferred initialization method. When making the change, be mindful of axis order changes: https://pyproj4.github.io/pyproj/stable/gotchas.html#axis-order-changes-in-proj-6\n",
      "  return _prepare_from_string(\" \".join(pjargs))\n"
     ]
    },
    {
     "data": {
      "text/html": [
       "<div style=\"width:100%;\"><div style=\"position:relative;width:100%;height:0;padding-bottom:60%;\"><span style=\"color:#565656\">Make this Notebook Trusted to load map: File -> Trust Notebook</span><iframe src=\"about:blank\" style=\"position:absolute;width:100%;height:100%;left:0;top:0;border:none !important;\" data-html=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 onload=\"this.contentDocument.open();this.contentDocument.write(atob(this.getAttribute('data-html')));this.contentDocument.close();\" allowfullscreen webkitallowfullscreen mozallowfullscreen></iframe></div></div>"
      ],
      "text/plain": [
       "<folium.folium.Map at 0x7faad0ce0280>"
      ]
     },
     "execution_count": 72,
     "metadata": {},
     "output_type": "execute_result"
    }
   ],
   "source": [
    "#subsetting here would also be by ecoregion...\n",
    "BUFFER=60\n",
    "roi, center = tools.get_points_centroid(subset)\n",
    "uniqid = 'UNIQID'\n",
    "p = tools.generate_ee_points(subset[[uniqid, 'geometry']], idname=uniqid)\n",
    "boxes = generate_box_buffer(subset, BUFFER, idname=uniqid)\n",
    "fc_boxes = boxes['ee_fc']\n",
    "box = boxes['box_df']\n",
    "\n",
    "training_list = fc_boxes.toList(fc_boxes.size())\n",
    "training_pnts = p.toList(p.size())\n",
    "\n",
    "map_ex = folium.Map(center,zoom_start=4)\n",
    "tile = folium.TileLayer(\n",
    "        tiles = 'https://server.arcgisonline.com/ArcGIS/rest/services/World_Imagery/MapServer/tile/{z}/{y}/{x}',\n",
    "        attr = 'Esri',\n",
    "        name = 'Esri Satellite',\n",
    "        overlay = False,\n",
    "        control = True\n",
    "       ).add_to(map_ex)\n",
    "#add points\n",
    "mc = MarkerCluster()\n",
    "for _,p in subset.iterrows():\n",
    "    mc.add_child(folium.Marker(location=[p.geometry.y,p.geometry.x],popup=p[uniqid]))\n",
    "map_ex.add_child(mc)\n",
    "\n",
    "#add boxes\n",
    "[folium.GeoJson(geom).add_to(map_ex) for geom in box.geometry]\n",
    "map_ex"
   ]
  },
  {
   "cell_type": "markdown",
   "metadata": {},
   "source": [
    "# we want to filter each of the FIA points by year and group them into batches"
   ]
  },
  {
   "cell_type": "code",
   "execution_count": 73,
   "metadata": {},
   "outputs": [],
   "source": [
    "# set a year range based on the rules stipulated in the Chimera paper are:\n",
    "# 2 years back and 1 year forward\n",
    "\n",
    "req = '0001'\n",
    "years = np.unique(geo_df.INVYR).astype(int)\n",
    "RGB_bands = ['R','G','B'] #RGB\n",
    "BUCKET = 'usfs-fia-data'\n",
    "FOLDER = f'request-{req}'\n",
    "BATCHES = 2\n",
    "BUFFER = 60\n",
    "#for y in years:\n",
    "y = query_invyr\n",
    "#    subset, _, _ = tools.create_subset(geo_df, y)\n",
    "n = len(subset)\n",
    "#subset the points first to get the appropriate images for plot\n",
    "TRAINING_BASE = f'naip_{y}'\n",
    "SAMPLE = f'sample_patches_{y}'\n",
    "batch_indicies = np.array_split(np.arange(n),BATCHES)\n",
    "for b in range(BATCHES):\n",
    "    batch_subset, roi, training_pnts = tools.create_subset(subset.iloc[batch_indicies[b]], y)\n",
    "    start_date = f'{y}-01-01'\n",
    "    end_date = f'{y}-12-31'\n",
    "    ic = ee.ImageCollection(\"USDA/NAIP/DOQQ\")\\\n",
    "                   .filterBounds(roi)\\\n",
    "                   .filterDate(start_date, end_date)\\\n",
    "                   .select(RGB_bands).median()\n",
    "    #if not ic.getInfo()['bands']:\n",
    "    #    continue\n",
    "    year_bands = [f'{b}_{y}' for b in RGB_bands]\n",
    "    outimage = [ic.rename(year_bands)]\n",
    "    featureStack = ee.Image.cat(outimage)\n",
    "\n",
    "    arrays, EXPORT_BANDS = tools.create_arraystack(featureStack, BUFFER)\n",
    "\n",
    "    n = training_pnts.size().getInfo()\n",
    "    #we can batch here\n",
    "    geomSample = ee.FeatureCollection([])\n",
    "    for g in range(n):\n",
    "        region = ee.Feature(training_pnts.get(g)).geometry()\n",
    "        sample = arrays.sample(\\\n",
    "                               region = region,\\\n",
    "                               scale = 1,\\\n",
    "                               numPixels = 1,\\\n",
    "                               tileScale=8)\n",
    "    geomSample = geomSample.merge(sample)\n",
    "    desc = f'{TRAINING_BASE}_batch_{b+1}'\n",
    "    task = ee.batch.Export.table.toCloudStorage(\\\n",
    "        collection = geomSample,\\\n",
    "        description = desc, \\\n",
    "        bucket = BUCKET,\\\n",
    "        fileNamePrefix = f'{FOLDER}/{desc}',\\\n",
    "        fileFormat = 'TFRecord',\\\n",
    "        selectors = EXPORT_BANDS)\n",
    "    task.start()\n"
   ]
  },
  {
   "cell_type": "code",
   "execution_count": 75,
   "metadata": {},
   "outputs": [
    {
     "name": "stdout",
     "output_type": "stream",
     "text": [
      "request-0001/naip_2006_batch_1.tfrecord.gz\n",
      "request-0001/naip_2006_batch_2.tfrecord.gz\n",
      "request-002/naip_patches_g1.tfrecord.gz\n",
      "request-002/naip_patches_g2.tfrecord.gz\n",
      "request-002/naip_patches_g4.tfrecord.gz\n",
      "request-002/naip_patches_g5.tfrecord.gz\n",
      "request-002/naip_patches_g9.tfrecord.gz\n"
     ]
    }
   ],
   "source": [
    "import os\n",
    "creds = '/content/authentication/microsoft-aiforearth-f3c5b0f10cfa.json'\n",
    "os.environ['GOOGLE_APPLICATION_CREDENTIALS']=creds\n",
    "from google.cloud import storage\n",
    "client = storage.Client()\n",
    "bucket = storage.Bucket(BUCKET)\n",
    "for blob in client.list_blobs(BUCKET):\n",
    "    print(blob.name)"
   ]
  },
  {
   "cell_type": "code",
   "execution_count": 76,
   "metadata": {},
   "outputs": [],
   "source": [
    "import tensorflow as tf"
   ]
  },
  {
   "cell_type": "code",
   "execution_count": 77,
   "metadata": {},
   "outputs": [
    {
     "name": "stdout",
     "output_type": "stream",
     "text": [
      "['gsutil', '-m', 'cp', '-r', 'gs://usfs-fia-data/request-0001', '/content/data/']\n"
     ]
    },
    {
     "data": {
      "text/plain": [
       "CompletedProcess(args=['gsutil', '-m', 'cp', '-r', 'gs://usfs-fia-data/request-0001', '/content/data/'], returncode=0)"
      ]
     },
     "execution_count": 77,
     "metadata": {},
     "output_type": "execute_result"
    }
   ],
   "source": [
    "import subprocess\n",
    "#command to get data\n",
    "local_dirc = '/content/data'\n",
    "cmd = f'gsutil -m cp -r gs://{BUCKET}/{FOLDER} {local_dirc}/'\n",
    "print(cmd.split(' '))\n",
    "subprocess.run(cmd.split(' '))"
   ]
  },
  {
   "cell_type": "markdown",
   "metadata": {},
   "source": [
    "# `naip` in now a list of naip images for that year surrounding points that are of interest\n",
    "# note that many times, these images may be blank as there are no images for the selected states within the roi "
   ]
  },
  {
   "cell_type": "code",
   "execution_count": 78,
   "metadata": {},
   "outputs": [],
   "source": [
    "arrays, EXPORT_BANDS = tools.create_arraystack(featureStack, BUFFER)"
   ]
  },
  {
   "cell_type": "code",
   "execution_count": 79,
   "metadata": {},
   "outputs": [
    {
     "ename": "SSLError",
     "evalue": "(SSLError(\"bad handshake: SysCallError(-1, 'Unexpected EOF')\"),)",
     "output_type": "error",
     "traceback": [
      "\u001b[0;31m---------------------------------------------------------------------------\u001b[0m",
      "\u001b[0;31mSysCallError\u001b[0m                              Traceback (most recent call last)",
      "\u001b[0;32m/usr/lib/python3/dist-packages/urllib3/contrib/pyopenssl.py\u001b[0m in \u001b[0;36mwrap_socket\u001b[0;34m(self, sock, server_side, do_handshake_on_connect, suppress_ragged_eofs, server_hostname)\u001b[0m\n\u001b[1;32m    484\u001b[0m             \u001b[0;32mtry\u001b[0m\u001b[0;34m:\u001b[0m\u001b[0;34m\u001b[0m\u001b[0;34m\u001b[0m\u001b[0m\n\u001b[0;32m--> 485\u001b[0;31m                 \u001b[0mcnx\u001b[0m\u001b[0;34m.\u001b[0m\u001b[0mdo_handshake\u001b[0m\u001b[0;34m(\u001b[0m\u001b[0;34m)\u001b[0m\u001b[0;34m\u001b[0m\u001b[0;34m\u001b[0m\u001b[0m\n\u001b[0m\u001b[1;32m    486\u001b[0m             \u001b[0;32mexcept\u001b[0m \u001b[0mOpenSSL\u001b[0m\u001b[0;34m.\u001b[0m\u001b[0mSSL\u001b[0m\u001b[0;34m.\u001b[0m\u001b[0mWantReadError\u001b[0m\u001b[0;34m:\u001b[0m\u001b[0;34m\u001b[0m\u001b[0;34m\u001b[0m\u001b[0m\n",
      "\u001b[0;32m/usr/local/lib/python3.8/dist-packages/OpenSSL/SSL.py\u001b[0m in \u001b[0;36mdo_handshake\u001b[0;34m(self)\u001b[0m\n\u001b[1;32m   1933\u001b[0m         \u001b[0mresult\u001b[0m \u001b[0;34m=\u001b[0m \u001b[0m_lib\u001b[0m\u001b[0;34m.\u001b[0m\u001b[0mSSL_do_handshake\u001b[0m\u001b[0;34m(\u001b[0m\u001b[0mself\u001b[0m\u001b[0;34m.\u001b[0m\u001b[0m_ssl\u001b[0m\u001b[0;34m)\u001b[0m\u001b[0;34m\u001b[0m\u001b[0;34m\u001b[0m\u001b[0m\n\u001b[0;32m-> 1934\u001b[0;31m         \u001b[0mself\u001b[0m\u001b[0;34m.\u001b[0m\u001b[0m_raise_ssl_error\u001b[0m\u001b[0;34m(\u001b[0m\u001b[0mself\u001b[0m\u001b[0;34m.\u001b[0m\u001b[0m_ssl\u001b[0m\u001b[0;34m,\u001b[0m \u001b[0mresult\u001b[0m\u001b[0;34m)\u001b[0m\u001b[0;34m\u001b[0m\u001b[0;34m\u001b[0m\u001b[0m\n\u001b[0m\u001b[1;32m   1935\u001b[0m \u001b[0;34m\u001b[0m\u001b[0m\n",
      "\u001b[0;32m/usr/local/lib/python3.8/dist-packages/OpenSSL/SSL.py\u001b[0m in \u001b[0;36m_raise_ssl_error\u001b[0;34m(self, ssl, result)\u001b[0m\n\u001b[1;32m   1663\u001b[0m                         \u001b[0;32mraise\u001b[0m \u001b[0mSysCallError\u001b[0m\u001b[0;34m(\u001b[0m\u001b[0merrno\u001b[0m\u001b[0;34m,\u001b[0m \u001b[0merrorcode\u001b[0m\u001b[0;34m.\u001b[0m\u001b[0mget\u001b[0m\u001b[0;34m(\u001b[0m\u001b[0merrno\u001b[0m\u001b[0;34m)\u001b[0m\u001b[0;34m)\u001b[0m\u001b[0;34m\u001b[0m\u001b[0;34m\u001b[0m\u001b[0m\n\u001b[0;32m-> 1664\u001b[0;31m                 \u001b[0;32mraise\u001b[0m \u001b[0mSysCallError\u001b[0m\u001b[0;34m(\u001b[0m\u001b[0;34m-\u001b[0m\u001b[0;36m1\u001b[0m\u001b[0;34m,\u001b[0m \u001b[0;34m\"Unexpected EOF\"\u001b[0m\u001b[0;34m)\u001b[0m\u001b[0;34m\u001b[0m\u001b[0;34m\u001b[0m\u001b[0m\n\u001b[0m\u001b[1;32m   1665\u001b[0m             \u001b[0;32melse\u001b[0m\u001b[0;34m:\u001b[0m\u001b[0;34m\u001b[0m\u001b[0;34m\u001b[0m\u001b[0m\n",
      "\u001b[0;31mSysCallError\u001b[0m: (-1, 'Unexpected EOF')",
      "\nDuring handling of the above exception, another exception occurred:\n",
      "\u001b[0;31mSSLError\u001b[0m                                  Traceback (most recent call last)",
      "\u001b[0;32m/usr/lib/python3/dist-packages/urllib3/connectionpool.py\u001b[0m in \u001b[0;36murlopen\u001b[0;34m(self, method, url, body, headers, retries, redirect, assert_same_host, timeout, pool_timeout, release_conn, chunked, body_pos, **response_kw)\u001b[0m\n\u001b[1;32m    664\u001b[0m             \u001b[0;31m# Make the request on the httplib connection object.\u001b[0m\u001b[0;34m\u001b[0m\u001b[0;34m\u001b[0m\u001b[0;34m\u001b[0m\u001b[0m\n\u001b[0;32m--> 665\u001b[0;31m             httplib_response = self._make_request(\n\u001b[0m\u001b[1;32m    666\u001b[0m                 \u001b[0mconn\u001b[0m\u001b[0;34m,\u001b[0m\u001b[0;34m\u001b[0m\u001b[0;34m\u001b[0m\u001b[0m\n",
      "\u001b[0;32m/usr/lib/python3/dist-packages/urllib3/connectionpool.py\u001b[0m in \u001b[0;36m_make_request\u001b[0;34m(self, conn, method, url, timeout, chunked, **httplib_request_kw)\u001b[0m\n\u001b[1;32m    375\u001b[0m         \u001b[0;32mtry\u001b[0m\u001b[0;34m:\u001b[0m\u001b[0;34m\u001b[0m\u001b[0;34m\u001b[0m\u001b[0m\n\u001b[0;32m--> 376\u001b[0;31m             \u001b[0mself\u001b[0m\u001b[0;34m.\u001b[0m\u001b[0m_validate_conn\u001b[0m\u001b[0;34m(\u001b[0m\u001b[0mconn\u001b[0m\u001b[0;34m)\u001b[0m\u001b[0;34m\u001b[0m\u001b[0;34m\u001b[0m\u001b[0m\n\u001b[0m\u001b[1;32m    377\u001b[0m         \u001b[0;32mexcept\u001b[0m \u001b[0;34m(\u001b[0m\u001b[0mSocketTimeout\u001b[0m\u001b[0;34m,\u001b[0m \u001b[0mBaseSSLError\u001b[0m\u001b[0;34m)\u001b[0m \u001b[0;32mas\u001b[0m \u001b[0me\u001b[0m\u001b[0;34m:\u001b[0m\u001b[0;34m\u001b[0m\u001b[0;34m\u001b[0m\u001b[0m\n",
      "\u001b[0;32m/usr/lib/python3/dist-packages/urllib3/connectionpool.py\u001b[0m in \u001b[0;36m_validate_conn\u001b[0;34m(self, conn)\u001b[0m\n\u001b[1;32m    995\u001b[0m         \u001b[0;32mif\u001b[0m \u001b[0;32mnot\u001b[0m \u001b[0mgetattr\u001b[0m\u001b[0;34m(\u001b[0m\u001b[0mconn\u001b[0m\u001b[0;34m,\u001b[0m \u001b[0;34m\"sock\"\u001b[0m\u001b[0;34m,\u001b[0m \u001b[0;32mNone\u001b[0m\u001b[0;34m)\u001b[0m\u001b[0;34m:\u001b[0m  \u001b[0;31m# AppEngine might not have  `.sock`\u001b[0m\u001b[0;34m\u001b[0m\u001b[0;34m\u001b[0m\u001b[0m\n\u001b[0;32m--> 996\u001b[0;31m             \u001b[0mconn\u001b[0m\u001b[0;34m.\u001b[0m\u001b[0mconnect\u001b[0m\u001b[0;34m(\u001b[0m\u001b[0;34m)\u001b[0m\u001b[0;34m\u001b[0m\u001b[0;34m\u001b[0m\u001b[0m\n\u001b[0m\u001b[1;32m    997\u001b[0m \u001b[0;34m\u001b[0m\u001b[0m\n",
      "\u001b[0;32m/usr/lib/python3/dist-packages/urllib3/connection.py\u001b[0m in \u001b[0;36mconnect\u001b[0;34m(self)\u001b[0m\n\u001b[1;32m    351\u001b[0m \u001b[0;34m\u001b[0m\u001b[0m\n\u001b[0;32m--> 352\u001b[0;31m         self.sock = ssl_wrap_socket(\n\u001b[0m\u001b[1;32m    353\u001b[0m             \u001b[0msock\u001b[0m\u001b[0;34m=\u001b[0m\u001b[0mconn\u001b[0m\u001b[0;34m,\u001b[0m\u001b[0;34m\u001b[0m\u001b[0;34m\u001b[0m\u001b[0m\n",
      "\u001b[0;32m/usr/lib/python3/dist-packages/urllib3/util/ssl_.py\u001b[0m in \u001b[0;36mssl_wrap_socket\u001b[0;34m(sock, keyfile, certfile, cert_reqs, ca_certs, server_hostname, ssl_version, ciphers, ssl_context, ca_cert_dir, key_password)\u001b[0m\n\u001b[1;32m    369\u001b[0m         \u001b[0;32mif\u001b[0m \u001b[0mHAS_SNI\u001b[0m \u001b[0;32mand\u001b[0m \u001b[0mserver_hostname\u001b[0m \u001b[0;32mis\u001b[0m \u001b[0;32mnot\u001b[0m \u001b[0;32mNone\u001b[0m\u001b[0;34m:\u001b[0m\u001b[0;34m\u001b[0m\u001b[0;34m\u001b[0m\u001b[0m\n\u001b[0;32m--> 370\u001b[0;31m             \u001b[0;32mreturn\u001b[0m \u001b[0mcontext\u001b[0m\u001b[0;34m.\u001b[0m\u001b[0mwrap_socket\u001b[0m\u001b[0;34m(\u001b[0m\u001b[0msock\u001b[0m\u001b[0;34m,\u001b[0m \u001b[0mserver_hostname\u001b[0m\u001b[0;34m=\u001b[0m\u001b[0mserver_hostname\u001b[0m\u001b[0;34m)\u001b[0m\u001b[0;34m\u001b[0m\u001b[0;34m\u001b[0m\u001b[0m\n\u001b[0m\u001b[1;32m    371\u001b[0m \u001b[0;34m\u001b[0m\u001b[0m\n",
      "\u001b[0;32m/usr/lib/python3/dist-packages/urllib3/contrib/pyopenssl.py\u001b[0m in \u001b[0;36mwrap_socket\u001b[0;34m(self, sock, server_side, do_handshake_on_connect, suppress_ragged_eofs, server_hostname)\u001b[0m\n\u001b[1;32m    490\u001b[0m             \u001b[0;32mexcept\u001b[0m \u001b[0mOpenSSL\u001b[0m\u001b[0;34m.\u001b[0m\u001b[0mSSL\u001b[0m\u001b[0;34m.\u001b[0m\u001b[0mError\u001b[0m \u001b[0;32mas\u001b[0m \u001b[0me\u001b[0m\u001b[0;34m:\u001b[0m\u001b[0;34m\u001b[0m\u001b[0;34m\u001b[0m\u001b[0m\n\u001b[0;32m--> 491\u001b[0;31m                 \u001b[0;32mraise\u001b[0m \u001b[0mssl\u001b[0m\u001b[0;34m.\u001b[0m\u001b[0mSSLError\u001b[0m\u001b[0;34m(\u001b[0m\u001b[0;34m\"bad handshake: %r\"\u001b[0m \u001b[0;34m%\u001b[0m \u001b[0me\u001b[0m\u001b[0;34m)\u001b[0m\u001b[0;34m\u001b[0m\u001b[0;34m\u001b[0m\u001b[0m\n\u001b[0m\u001b[1;32m    492\u001b[0m             \u001b[0;32mbreak\u001b[0m\u001b[0;34m\u001b[0m\u001b[0;34m\u001b[0m\u001b[0m\n",
      "\u001b[0;31mSSLError\u001b[0m: (\"bad handshake: SysCallError(-1, 'Unexpected EOF')\",)",
      "\nDuring handling of the above exception, another exception occurred:\n",
      "\u001b[0;31mSSLError\u001b[0m                                  Traceback (most recent call last)",
      "\u001b[0;32m/usr/local/lib/python3.8/dist-packages/httplib2shim/__init__.py\u001b[0m in \u001b[0;36m_conn_request\u001b[0;34m(self, conn, request_uri, method, body, headers)\u001b[0m\n\u001b[1;32m    139\u001b[0m         \u001b[0;32mtry\u001b[0m\u001b[0;34m:\u001b[0m\u001b[0;34m\u001b[0m\u001b[0;34m\u001b[0m\u001b[0m\n\u001b[0;32m--> 140\u001b[0;31m             urllib3_response = self.pool.request(\n\u001b[0m\u001b[1;32m    141\u001b[0m                 \u001b[0mmethod\u001b[0m\u001b[0;34m,\u001b[0m\u001b[0;34m\u001b[0m\u001b[0;34m\u001b[0m\u001b[0m\n",
      "\u001b[0;32m/usr/lib/python3/dist-packages/urllib3/request.py\u001b[0m in \u001b[0;36mrequest\u001b[0;34m(self, method, url, fields, headers, **urlopen_kw)\u001b[0m\n\u001b[1;32m     78\u001b[0m         \u001b[0;32melse\u001b[0m\u001b[0;34m:\u001b[0m\u001b[0;34m\u001b[0m\u001b[0;34m\u001b[0m\u001b[0m\n\u001b[0;32m---> 79\u001b[0;31m             return self.request_encode_body(\n\u001b[0m\u001b[1;32m     80\u001b[0m                 \u001b[0mmethod\u001b[0m\u001b[0;34m,\u001b[0m \u001b[0murl\u001b[0m\u001b[0;34m,\u001b[0m \u001b[0mfields\u001b[0m\u001b[0;34m=\u001b[0m\u001b[0mfields\u001b[0m\u001b[0;34m,\u001b[0m \u001b[0mheaders\u001b[0m\u001b[0;34m=\u001b[0m\u001b[0mheaders\u001b[0m\u001b[0;34m,\u001b[0m \u001b[0;34m**\u001b[0m\u001b[0murlopen_kw\u001b[0m\u001b[0;34m\u001b[0m\u001b[0;34m\u001b[0m\u001b[0m\n",
      "\u001b[0;32m/usr/lib/python3/dist-packages/urllib3/request.py\u001b[0m in \u001b[0;36mrequest_encode_body\u001b[0;34m(self, method, url, fields, headers, encode_multipart, multipart_boundary, **urlopen_kw)\u001b[0m\n\u001b[1;32m    170\u001b[0m \u001b[0;34m\u001b[0m\u001b[0m\n\u001b[0;32m--> 171\u001b[0;31m         \u001b[0;32mreturn\u001b[0m \u001b[0mself\u001b[0m\u001b[0;34m.\u001b[0m\u001b[0murlopen\u001b[0m\u001b[0;34m(\u001b[0m\u001b[0mmethod\u001b[0m\u001b[0;34m,\u001b[0m \u001b[0murl\u001b[0m\u001b[0;34m,\u001b[0m \u001b[0;34m**\u001b[0m\u001b[0mextra_kw\u001b[0m\u001b[0;34m)\u001b[0m\u001b[0;34m\u001b[0m\u001b[0;34m\u001b[0m\u001b[0m\n\u001b[0m",
      "\u001b[0;32m/usr/lib/python3/dist-packages/urllib3/poolmanager.py\u001b[0m in \u001b[0;36murlopen\u001b[0;34m(self, method, url, redirect, **kw)\u001b[0m\n\u001b[1;32m    329\u001b[0m         \u001b[0;32melse\u001b[0m\u001b[0;34m:\u001b[0m\u001b[0;34m\u001b[0m\u001b[0;34m\u001b[0m\u001b[0m\n\u001b[0;32m--> 330\u001b[0;31m             \u001b[0mresponse\u001b[0m \u001b[0;34m=\u001b[0m \u001b[0mconn\u001b[0m\u001b[0;34m.\u001b[0m\u001b[0murlopen\u001b[0m\u001b[0;34m(\u001b[0m\u001b[0mmethod\u001b[0m\u001b[0;34m,\u001b[0m \u001b[0mu\u001b[0m\u001b[0;34m.\u001b[0m\u001b[0mrequest_uri\u001b[0m\u001b[0;34m,\u001b[0m \u001b[0;34m**\u001b[0m\u001b[0mkw\u001b[0m\u001b[0;34m)\u001b[0m\u001b[0;34m\u001b[0m\u001b[0;34m\u001b[0m\u001b[0m\n\u001b[0m\u001b[1;32m    331\u001b[0m \u001b[0;34m\u001b[0m\u001b[0m\n",
      "\u001b[0;32m/usr/lib/python3/dist-packages/urllib3/connectionpool.py\u001b[0m in \u001b[0;36murlopen\u001b[0;34m(self, method, url, body, headers, retries, redirect, assert_same_host, timeout, pool_timeout, release_conn, chunked, body_pos, **response_kw)\u001b[0m\n\u001b[1;32m    718\u001b[0m \u001b[0;34m\u001b[0m\u001b[0m\n\u001b[0;32m--> 719\u001b[0;31m             retries = retries.increment(\n\u001b[0m\u001b[1;32m    720\u001b[0m                 \u001b[0mmethod\u001b[0m\u001b[0;34m,\u001b[0m \u001b[0murl\u001b[0m\u001b[0;34m,\u001b[0m \u001b[0merror\u001b[0m\u001b[0;34m=\u001b[0m\u001b[0me\u001b[0m\u001b[0;34m,\u001b[0m \u001b[0m_pool\u001b[0m\u001b[0;34m=\u001b[0m\u001b[0mself\u001b[0m\u001b[0;34m,\u001b[0m \u001b[0m_stacktrace\u001b[0m\u001b[0;34m=\u001b[0m\u001b[0msys\u001b[0m\u001b[0;34m.\u001b[0m\u001b[0mexc_info\u001b[0m\u001b[0;34m(\u001b[0m\u001b[0;34m)\u001b[0m\u001b[0;34m[\u001b[0m\u001b[0;36m2\u001b[0m\u001b[0;34m]\u001b[0m\u001b[0;34m\u001b[0m\u001b[0;34m\u001b[0m\u001b[0m\n",
      "\u001b[0;32m/usr/lib/python3/dist-packages/urllib3/util/retry.py\u001b[0m in \u001b[0;36mincrement\u001b[0;34m(self, method, url, response, error, _pool, _stacktrace)\u001b[0m\n\u001b[1;32m    375\u001b[0m             \u001b[0;31m# Disabled, indicate to re-raise the error.\u001b[0m\u001b[0;34m\u001b[0m\u001b[0;34m\u001b[0m\u001b[0;34m\u001b[0m\u001b[0m\n\u001b[0;32m--> 376\u001b[0;31m             \u001b[0;32mraise\u001b[0m \u001b[0msix\u001b[0m\u001b[0;34m.\u001b[0m\u001b[0mreraise\u001b[0m\u001b[0;34m(\u001b[0m\u001b[0mtype\u001b[0m\u001b[0;34m(\u001b[0m\u001b[0merror\u001b[0m\u001b[0;34m)\u001b[0m\u001b[0;34m,\u001b[0m \u001b[0merror\u001b[0m\u001b[0;34m,\u001b[0m \u001b[0m_stacktrace\u001b[0m\u001b[0;34m)\u001b[0m\u001b[0;34m\u001b[0m\u001b[0;34m\u001b[0m\u001b[0m\n\u001b[0m\u001b[1;32m    377\u001b[0m \u001b[0;34m\u001b[0m\u001b[0m\n",
      "\u001b[0;32m/usr/lib/python3/dist-packages/six.py\u001b[0m in \u001b[0;36mreraise\u001b[0;34m(tp, value, tb)\u001b[0m\n\u001b[1;32m    701\u001b[0m             \u001b[0;32mif\u001b[0m \u001b[0mvalue\u001b[0m\u001b[0;34m.\u001b[0m\u001b[0m__traceback__\u001b[0m \u001b[0;32mis\u001b[0m \u001b[0;32mnot\u001b[0m \u001b[0mtb\u001b[0m\u001b[0;34m:\u001b[0m\u001b[0;34m\u001b[0m\u001b[0;34m\u001b[0m\u001b[0m\n\u001b[0;32m--> 702\u001b[0;31m                 \u001b[0;32mraise\u001b[0m \u001b[0mvalue\u001b[0m\u001b[0;34m.\u001b[0m\u001b[0mwith_traceback\u001b[0m\u001b[0;34m(\u001b[0m\u001b[0mtb\u001b[0m\u001b[0;34m)\u001b[0m\u001b[0;34m\u001b[0m\u001b[0;34m\u001b[0m\u001b[0m\n\u001b[0m\u001b[1;32m    703\u001b[0m             \u001b[0;32mraise\u001b[0m \u001b[0mvalue\u001b[0m\u001b[0;34m\u001b[0m\u001b[0;34m\u001b[0m\u001b[0m\n",
      "\u001b[0;32m/usr/lib/python3/dist-packages/urllib3/connectionpool.py\u001b[0m in \u001b[0;36murlopen\u001b[0;34m(self, method, url, body, headers, retries, redirect, assert_same_host, timeout, pool_timeout, release_conn, chunked, body_pos, **response_kw)\u001b[0m\n\u001b[1;32m    664\u001b[0m             \u001b[0;31m# Make the request on the httplib connection object.\u001b[0m\u001b[0;34m\u001b[0m\u001b[0;34m\u001b[0m\u001b[0;34m\u001b[0m\u001b[0m\n\u001b[0;32m--> 665\u001b[0;31m             httplib_response = self._make_request(\n\u001b[0m\u001b[1;32m    666\u001b[0m                 \u001b[0mconn\u001b[0m\u001b[0;34m,\u001b[0m\u001b[0;34m\u001b[0m\u001b[0;34m\u001b[0m\u001b[0m\n",
      "\u001b[0;32m/usr/lib/python3/dist-packages/urllib3/connectionpool.py\u001b[0m in \u001b[0;36m_make_request\u001b[0;34m(self, conn, method, url, timeout, chunked, **httplib_request_kw)\u001b[0m\n\u001b[1;32m    375\u001b[0m         \u001b[0;32mtry\u001b[0m\u001b[0;34m:\u001b[0m\u001b[0;34m\u001b[0m\u001b[0;34m\u001b[0m\u001b[0m\n\u001b[0;32m--> 376\u001b[0;31m             \u001b[0mself\u001b[0m\u001b[0;34m.\u001b[0m\u001b[0m_validate_conn\u001b[0m\u001b[0;34m(\u001b[0m\u001b[0mconn\u001b[0m\u001b[0;34m)\u001b[0m\u001b[0;34m\u001b[0m\u001b[0;34m\u001b[0m\u001b[0m\n\u001b[0m\u001b[1;32m    377\u001b[0m         \u001b[0;32mexcept\u001b[0m \u001b[0;34m(\u001b[0m\u001b[0mSocketTimeout\u001b[0m\u001b[0;34m,\u001b[0m \u001b[0mBaseSSLError\u001b[0m\u001b[0;34m)\u001b[0m \u001b[0;32mas\u001b[0m \u001b[0me\u001b[0m\u001b[0;34m:\u001b[0m\u001b[0;34m\u001b[0m\u001b[0;34m\u001b[0m\u001b[0m\n",
      "\u001b[0;32m/usr/lib/python3/dist-packages/urllib3/connectionpool.py\u001b[0m in \u001b[0;36m_validate_conn\u001b[0;34m(self, conn)\u001b[0m\n\u001b[1;32m    995\u001b[0m         \u001b[0;32mif\u001b[0m \u001b[0;32mnot\u001b[0m \u001b[0mgetattr\u001b[0m\u001b[0;34m(\u001b[0m\u001b[0mconn\u001b[0m\u001b[0;34m,\u001b[0m \u001b[0;34m\"sock\"\u001b[0m\u001b[0;34m,\u001b[0m \u001b[0;32mNone\u001b[0m\u001b[0;34m)\u001b[0m\u001b[0;34m:\u001b[0m  \u001b[0;31m# AppEngine might not have  `.sock`\u001b[0m\u001b[0;34m\u001b[0m\u001b[0;34m\u001b[0m\u001b[0m\n\u001b[0;32m--> 996\u001b[0;31m             \u001b[0mconn\u001b[0m\u001b[0;34m.\u001b[0m\u001b[0mconnect\u001b[0m\u001b[0;34m(\u001b[0m\u001b[0;34m)\u001b[0m\u001b[0;34m\u001b[0m\u001b[0;34m\u001b[0m\u001b[0m\n\u001b[0m\u001b[1;32m    997\u001b[0m \u001b[0;34m\u001b[0m\u001b[0m\n",
      "\u001b[0;32m/usr/lib/python3/dist-packages/urllib3/connection.py\u001b[0m in \u001b[0;36mconnect\u001b[0;34m(self)\u001b[0m\n\u001b[1;32m    351\u001b[0m \u001b[0;34m\u001b[0m\u001b[0m\n\u001b[0;32m--> 352\u001b[0;31m         self.sock = ssl_wrap_socket(\n\u001b[0m\u001b[1;32m    353\u001b[0m             \u001b[0msock\u001b[0m\u001b[0;34m=\u001b[0m\u001b[0mconn\u001b[0m\u001b[0;34m,\u001b[0m\u001b[0;34m\u001b[0m\u001b[0;34m\u001b[0m\u001b[0m\n",
      "\u001b[0;32m/usr/lib/python3/dist-packages/urllib3/util/ssl_.py\u001b[0m in \u001b[0;36mssl_wrap_socket\u001b[0;34m(sock, keyfile, certfile, cert_reqs, ca_certs, server_hostname, ssl_version, ciphers, ssl_context, ca_cert_dir, key_password)\u001b[0m\n\u001b[1;32m    369\u001b[0m         \u001b[0;32mif\u001b[0m \u001b[0mHAS_SNI\u001b[0m \u001b[0;32mand\u001b[0m \u001b[0mserver_hostname\u001b[0m \u001b[0;32mis\u001b[0m \u001b[0;32mnot\u001b[0m \u001b[0;32mNone\u001b[0m\u001b[0;34m:\u001b[0m\u001b[0;34m\u001b[0m\u001b[0;34m\u001b[0m\u001b[0m\n\u001b[0;32m--> 370\u001b[0;31m             \u001b[0;32mreturn\u001b[0m \u001b[0mcontext\u001b[0m\u001b[0;34m.\u001b[0m\u001b[0mwrap_socket\u001b[0m\u001b[0;34m(\u001b[0m\u001b[0msock\u001b[0m\u001b[0;34m,\u001b[0m \u001b[0mserver_hostname\u001b[0m\u001b[0;34m=\u001b[0m\u001b[0mserver_hostname\u001b[0m\u001b[0;34m)\u001b[0m\u001b[0;34m\u001b[0m\u001b[0;34m\u001b[0m\u001b[0m\n\u001b[0m\u001b[1;32m    371\u001b[0m \u001b[0;34m\u001b[0m\u001b[0m\n",
      "\u001b[0;32m/usr/lib/python3/dist-packages/urllib3/contrib/pyopenssl.py\u001b[0m in \u001b[0;36mwrap_socket\u001b[0;34m(self, sock, server_side, do_handshake_on_connect, suppress_ragged_eofs, server_hostname)\u001b[0m\n\u001b[1;32m    490\u001b[0m             \u001b[0;32mexcept\u001b[0m \u001b[0mOpenSSL\u001b[0m\u001b[0;34m.\u001b[0m\u001b[0mSSL\u001b[0m\u001b[0;34m.\u001b[0m\u001b[0mError\u001b[0m \u001b[0;32mas\u001b[0m \u001b[0me\u001b[0m\u001b[0;34m:\u001b[0m\u001b[0;34m\u001b[0m\u001b[0;34m\u001b[0m\u001b[0m\n\u001b[0;32m--> 491\u001b[0;31m                 \u001b[0;32mraise\u001b[0m \u001b[0mssl\u001b[0m\u001b[0;34m.\u001b[0m\u001b[0mSSLError\u001b[0m\u001b[0;34m(\u001b[0m\u001b[0;34m\"bad handshake: %r\"\u001b[0m \u001b[0;34m%\u001b[0m \u001b[0me\u001b[0m\u001b[0;34m)\u001b[0m\u001b[0;34m\u001b[0m\u001b[0;34m\u001b[0m\u001b[0m\n\u001b[0m\u001b[1;32m    492\u001b[0m             \u001b[0;32mbreak\u001b[0m\u001b[0;34m\u001b[0m\u001b[0;34m\u001b[0m\u001b[0m\n",
      "\u001b[0;31mSSLError\u001b[0m: (\"bad handshake: SysCallError(-1, 'Unexpected EOF')\",)",
      "\nDuring handling of the above exception, another exception occurred:\n",
      "\u001b[0;31mSSLError\u001b[0m                                  Traceback (most recent call last)",
      "\u001b[0;32m<ipython-input-79-d5f61e258436>\u001b[0m in \u001b[0;36m<module>\u001b[0;34m\u001b[0m\n\u001b[1;32m     10\u001b[0m \u001b[0;31m#we want to iterate through the years of the naip\u001b[0m\u001b[0;34m\u001b[0m\u001b[0;34m\u001b[0m\u001b[0;34m\u001b[0m\u001b[0m\n\u001b[1;32m     11\u001b[0m \u001b[0;32mfor\u001b[0m \u001b[0my\u001b[0m \u001b[0;32min\u001b[0m \u001b[0myears\u001b[0m\u001b[0;34m:\u001b[0m\u001b[0;34m\u001b[0m\u001b[0;34m\u001b[0m\u001b[0m\n\u001b[0;32m---> 12\u001b[0;31m     \u001b[0msubset\u001b[0m\u001b[0;34m,\u001b[0m \u001b[0m_\u001b[0m\u001b[0;34m,\u001b[0m \u001b[0m_\u001b[0m \u001b[0;34m=\u001b[0m \u001b[0mtools\u001b[0m\u001b[0;34m.\u001b[0m\u001b[0mcreate_subset\u001b[0m\u001b[0;34m(\u001b[0m\u001b[0mgeo_df\u001b[0m\u001b[0;34m,\u001b[0m \u001b[0my\u001b[0m\u001b[0;34m)\u001b[0m\u001b[0;34m\u001b[0m\u001b[0;34m\u001b[0m\u001b[0m\n\u001b[0m\u001b[1;32m     13\u001b[0m     \u001b[0mn\u001b[0m \u001b[0;34m=\u001b[0m \u001b[0mlen\u001b[0m\u001b[0;34m(\u001b[0m\u001b[0msubset\u001b[0m\u001b[0;34m)\u001b[0m\u001b[0;34m\u001b[0m\u001b[0;34m\u001b[0m\u001b[0m\n\u001b[1;32m     14\u001b[0m     \u001b[0;31m#subset the points first to get the appropriate images for plot\u001b[0m\u001b[0;34m\u001b[0m\u001b[0;34m\u001b[0m\u001b[0;34m\u001b[0m\u001b[0m\n",
      "\u001b[0;32m/content/src/tools.py\u001b[0m in \u001b[0;36mcreate_subset\u001b[0;34m(df, year)\u001b[0m\n\u001b[1;32m    236\u001b[0m     \u001b[0msubset\u001b[0m \u001b[0;34m=\u001b[0m \u001b[0mdf\u001b[0m\u001b[0;34m[\u001b[0m\u001b[0mdf\u001b[0m\u001b[0;34m[\u001b[0m\u001b[0;34m'INVYR'\u001b[0m\u001b[0;34m]\u001b[0m\u001b[0;34m==\u001b[0m\u001b[0myear\u001b[0m\u001b[0;34m]\u001b[0m\u001b[0;34m\u001b[0m\u001b[0;34m\u001b[0m\u001b[0m\n\u001b[1;32m    237\u001b[0m     \u001b[0;31m#subsetting here would also be by ecoregion...\u001b[0m\u001b[0;34m\u001b[0m\u001b[0;34m\u001b[0m\u001b[0;34m\u001b[0m\u001b[0m\n\u001b[0;32m--> 238\u001b[0;31m     \u001b[0mroi\u001b[0m\u001b[0;34m,\u001b[0m \u001b[0mcenter\u001b[0m \u001b[0;34m=\u001b[0m \u001b[0mget_points_centroid\u001b[0m\u001b[0;34m(\u001b[0m\u001b[0msubset\u001b[0m\u001b[0;34m)\u001b[0m\u001b[0;34m\u001b[0m\u001b[0;34m\u001b[0m\u001b[0m\n\u001b[0m\u001b[1;32m    239\u001b[0m     \u001b[0mp\u001b[0m \u001b[0;34m=\u001b[0m \u001b[0mgenerate_ee_points\u001b[0m\u001b[0;34m(\u001b[0m\u001b[0msubset\u001b[0m\u001b[0;34m[\u001b[0m\u001b[0;34m[\u001b[0m\u001b[0;34m'UNIQID'\u001b[0m\u001b[0;34m,\u001b[0m \u001b[0;34m'geometry'\u001b[0m\u001b[0;34m]\u001b[0m\u001b[0;34m]\u001b[0m\u001b[0;34m,\u001b[0m \u001b[0midname\u001b[0m\u001b[0;34m=\u001b[0m\u001b[0;34m'UNIQID'\u001b[0m\u001b[0;34m)\u001b[0m\u001b[0;34m\u001b[0m\u001b[0;34m\u001b[0m\u001b[0m\n\u001b[1;32m    240\u001b[0m     \u001b[0msubset_pnts\u001b[0m \u001b[0;34m=\u001b[0m \u001b[0mp\u001b[0m\u001b[0;34m.\u001b[0m\u001b[0mtoList\u001b[0m\u001b[0;34m(\u001b[0m\u001b[0mp\u001b[0m\u001b[0;34m.\u001b[0m\u001b[0msize\u001b[0m\u001b[0;34m(\u001b[0m\u001b[0;34m)\u001b[0m\u001b[0;34m)\u001b[0m\u001b[0;34m\u001b[0m\u001b[0;34m\u001b[0m\u001b[0m\n",
      "\u001b[0;32m/content/src/tools.py\u001b[0m in \u001b[0;36mget_points_centroid\u001b[0;34m(df)\u001b[0m\n\u001b[1;32m    219\u001b[0m     \u001b[0mymax\u001b[0m \u001b[0;34m=\u001b[0m \u001b[0mfloat\u001b[0m\u001b[0;34m(\u001b[0m\u001b[0mmax\u001b[0m\u001b[0;34m(\u001b[0m\u001b[0mlat\u001b[0m\u001b[0;34m)\u001b[0m\u001b[0;34m)\u001b[0m\u001b[0;34m\u001b[0m\u001b[0;34m\u001b[0m\u001b[0m\n\u001b[1;32m    220\u001b[0m     \u001b[0mroi\u001b[0m \u001b[0;34m=\u001b[0m \u001b[0mee\u001b[0m\u001b[0;34m.\u001b[0m\u001b[0mGeometry\u001b[0m\u001b[0;34m.\u001b[0m\u001b[0mRectangle\u001b[0m\u001b[0;34m(\u001b[0m\u001b[0;34m[\u001b[0m\u001b[0mxmin\u001b[0m\u001b[0;34m,\u001b[0m\u001b[0mymin\u001b[0m\u001b[0;34m,\u001b[0m\u001b[0mxmax\u001b[0m\u001b[0;34m,\u001b[0m\u001b[0mymax\u001b[0m\u001b[0;34m]\u001b[0m\u001b[0;34m)\u001b[0m\u001b[0;34m\u001b[0m\u001b[0;34m\u001b[0m\u001b[0m\n\u001b[0;32m--> 221\u001b[0;31m     \u001b[0mcenter\u001b[0m \u001b[0;34m=\u001b[0m \u001b[0mroi\u001b[0m\u001b[0;34m.\u001b[0m\u001b[0mcentroid\u001b[0m\u001b[0;34m(\u001b[0m\u001b[0;34m)\u001b[0m\u001b[0;34m.\u001b[0m\u001b[0mgetInfo\u001b[0m\u001b[0;34m(\u001b[0m\u001b[0;34m)\u001b[0m\u001b[0;34m[\u001b[0m\u001b[0;34m'coordinates'\u001b[0m\u001b[0;34m]\u001b[0m\u001b[0;34m\u001b[0m\u001b[0;34m\u001b[0m\u001b[0m\n\u001b[0m\u001b[1;32m    222\u001b[0m     \u001b[0mcenter\u001b[0m\u001b[0;34m.\u001b[0m\u001b[0mreverse\u001b[0m\u001b[0;34m(\u001b[0m\u001b[0;34m)\u001b[0m\u001b[0;34m\u001b[0m\u001b[0;34m\u001b[0m\u001b[0m\n\u001b[1;32m    223\u001b[0m     \u001b[0;32mreturn\u001b[0m\u001b[0;34m(\u001b[0m\u001b[0mroi\u001b[0m\u001b[0;34m,\u001b[0m \u001b[0mcenter\u001b[0m\u001b[0;34m)\u001b[0m\u001b[0;34m\u001b[0m\u001b[0;34m\u001b[0m\u001b[0m\n",
      "\u001b[0;32m/usr/local/lib/python3.8/dist-packages/ee/computedobject.py\u001b[0m in \u001b[0;36mgetInfo\u001b[0;34m(self)\u001b[0m\n\u001b[1;32m     93\u001b[0m       \u001b[0mThe\u001b[0m \u001b[0mobject\u001b[0m \u001b[0mcan\u001b[0m \u001b[0mevaluate\u001b[0m \u001b[0mto\u001b[0m \u001b[0manything\u001b[0m\u001b[0;34m.\u001b[0m\u001b[0;34m\u001b[0m\u001b[0;34m\u001b[0m\u001b[0m\n\u001b[1;32m     94\u001b[0m     \"\"\"\n\u001b[0;32m---> 95\u001b[0;31m     \u001b[0;32mreturn\u001b[0m \u001b[0mdata\u001b[0m\u001b[0;34m.\u001b[0m\u001b[0mcomputeValue\u001b[0m\u001b[0;34m(\u001b[0m\u001b[0mself\u001b[0m\u001b[0;34m)\u001b[0m\u001b[0;34m\u001b[0m\u001b[0;34m\u001b[0m\u001b[0m\n\u001b[0m\u001b[1;32m     96\u001b[0m \u001b[0;34m\u001b[0m\u001b[0m\n\u001b[1;32m     97\u001b[0m   \u001b[0;32mdef\u001b[0m \u001b[0mencode\u001b[0m\u001b[0;34m(\u001b[0m\u001b[0mself\u001b[0m\u001b[0;34m,\u001b[0m \u001b[0mencoder\u001b[0m\u001b[0;34m)\u001b[0m\u001b[0;34m:\u001b[0m\u001b[0;34m\u001b[0m\u001b[0;34m\u001b[0m\u001b[0m\n",
      "\u001b[0;32m/usr/local/lib/python3.8/dist-packages/ee/data.py\u001b[0m in \u001b[0;36mcomputeValue\u001b[0;34m(obj)\u001b[0m\n\u001b[1;32m    704\u001b[0m   \"\"\"\n\u001b[1;32m    705\u001b[0m   \u001b[0;32mif\u001b[0m \u001b[0m_use_cloud_api\u001b[0m\u001b[0;34m:\u001b[0m\u001b[0;34m\u001b[0m\u001b[0;34m\u001b[0m\u001b[0m\n\u001b[0;32m--> 706\u001b[0;31m     return _execute_cloud_call(\n\u001b[0m\u001b[1;32m    707\u001b[0m         _get_cloud_api_resource().projects().value().compute(\n\u001b[1;32m    708\u001b[0m             \u001b[0mbody\u001b[0m\u001b[0;34m=\u001b[0m\u001b[0;34m{\u001b[0m\u001b[0;34m'expression'\u001b[0m\u001b[0;34m:\u001b[0m \u001b[0mserializer\u001b[0m\u001b[0;34m.\u001b[0m\u001b[0mencode\u001b[0m\u001b[0;34m(\u001b[0m\u001b[0mobj\u001b[0m\u001b[0;34m,\u001b[0m \u001b[0mfor_cloud_api\u001b[0m\u001b[0;34m=\u001b[0m\u001b[0;32mTrue\u001b[0m\u001b[0;34m)\u001b[0m\u001b[0;34m}\u001b[0m\u001b[0;34m,\u001b[0m\u001b[0;34m\u001b[0m\u001b[0;34m\u001b[0m\u001b[0m\n",
      "\u001b[0;32m/usr/local/lib/python3.8/dist-packages/ee/data.py\u001b[0m in \u001b[0;36m_execute_cloud_call\u001b[0;34m(call, num_retries)\u001b[0m\n\u001b[1;32m    343\u001b[0m   \"\"\"\n\u001b[1;32m    344\u001b[0m   \u001b[0;32mtry\u001b[0m\u001b[0;34m:\u001b[0m\u001b[0;34m\u001b[0m\u001b[0;34m\u001b[0m\u001b[0m\n\u001b[0;32m--> 345\u001b[0;31m     \u001b[0;32mreturn\u001b[0m \u001b[0mcall\u001b[0m\u001b[0;34m.\u001b[0m\u001b[0mexecute\u001b[0m\u001b[0;34m(\u001b[0m\u001b[0mnum_retries\u001b[0m\u001b[0;34m=\u001b[0m\u001b[0mnum_retries\u001b[0m\u001b[0;34m)\u001b[0m\u001b[0;34m\u001b[0m\u001b[0;34m\u001b[0m\u001b[0m\n\u001b[0m\u001b[1;32m    346\u001b[0m   \u001b[0;32mexcept\u001b[0m \u001b[0mgoogleapiclient\u001b[0m\u001b[0;34m.\u001b[0m\u001b[0merrors\u001b[0m\u001b[0;34m.\u001b[0m\u001b[0mHttpError\u001b[0m \u001b[0;32mas\u001b[0m \u001b[0me\u001b[0m\u001b[0;34m:\u001b[0m\u001b[0;34m\u001b[0m\u001b[0;34m\u001b[0m\u001b[0m\n\u001b[1;32m    347\u001b[0m     \u001b[0;32mraise\u001b[0m \u001b[0m_translate_cloud_exception\u001b[0m\u001b[0;34m(\u001b[0m\u001b[0me\u001b[0m\u001b[0;34m)\u001b[0m\u001b[0;34m\u001b[0m\u001b[0;34m\u001b[0m\u001b[0m\n",
      "\u001b[0;32m/usr/local/lib/python3.8/dist-packages/googleapiclient/_helpers.py\u001b[0m in \u001b[0;36mpositional_wrapper\u001b[0;34m(*args, **kwargs)\u001b[0m\n\u001b[1;32m    132\u001b[0m                 \u001b[0;32melif\u001b[0m \u001b[0mpositional_parameters_enforcement\u001b[0m \u001b[0;34m==\u001b[0m \u001b[0mPOSITIONAL_WARNING\u001b[0m\u001b[0;34m:\u001b[0m\u001b[0;34m\u001b[0m\u001b[0;34m\u001b[0m\u001b[0m\n\u001b[1;32m    133\u001b[0m                     \u001b[0mlogger\u001b[0m\u001b[0;34m.\u001b[0m\u001b[0mwarning\u001b[0m\u001b[0;34m(\u001b[0m\u001b[0mmessage\u001b[0m\u001b[0;34m)\u001b[0m\u001b[0;34m\u001b[0m\u001b[0;34m\u001b[0m\u001b[0m\n\u001b[0;32m--> 134\u001b[0;31m             \u001b[0;32mreturn\u001b[0m \u001b[0mwrapped\u001b[0m\u001b[0;34m(\u001b[0m\u001b[0;34m*\u001b[0m\u001b[0margs\u001b[0m\u001b[0;34m,\u001b[0m \u001b[0;34m**\u001b[0m\u001b[0mkwargs\u001b[0m\u001b[0;34m)\u001b[0m\u001b[0;34m\u001b[0m\u001b[0;34m\u001b[0m\u001b[0m\n\u001b[0m\u001b[1;32m    135\u001b[0m \u001b[0;34m\u001b[0m\u001b[0m\n\u001b[1;32m    136\u001b[0m         \u001b[0;32mreturn\u001b[0m \u001b[0mpositional_wrapper\u001b[0m\u001b[0;34m\u001b[0m\u001b[0;34m\u001b[0m\u001b[0m\n",
      "\u001b[0;32m/usr/local/lib/python3.8/dist-packages/googleapiclient/http.py\u001b[0m in \u001b[0;36mexecute\u001b[0;34m(self, http, num_retries)\u001b[0m\n\u001b[1;32m    890\u001b[0m \u001b[0;34m\u001b[0m\u001b[0m\n\u001b[1;32m    891\u001b[0m         \u001b[0;31m# Handle retries for server-side errors.\u001b[0m\u001b[0;34m\u001b[0m\u001b[0;34m\u001b[0m\u001b[0;34m\u001b[0m\u001b[0m\n\u001b[0;32m--> 892\u001b[0;31m         resp, content = _retry_request(\n\u001b[0m\u001b[1;32m    893\u001b[0m             \u001b[0mhttp\u001b[0m\u001b[0;34m,\u001b[0m\u001b[0;34m\u001b[0m\u001b[0;34m\u001b[0m\u001b[0m\n\u001b[1;32m    894\u001b[0m             \u001b[0mnum_retries\u001b[0m\u001b[0;34m,\u001b[0m\u001b[0;34m\u001b[0m\u001b[0;34m\u001b[0m\u001b[0m\n",
      "\u001b[0;32m/usr/local/lib/python3.8/dist-packages/googleapiclient/http.py\u001b[0m in \u001b[0;36m_retry_request\u001b[0;34m(http, num_retries, req_type, sleep, rand, uri, method, *args, **kwargs)\u001b[0m\n\u001b[1;32m    202\u001b[0m         \u001b[0;32mif\u001b[0m \u001b[0mexception\u001b[0m\u001b[0;34m:\u001b[0m\u001b[0;34m\u001b[0m\u001b[0;34m\u001b[0m\u001b[0m\n\u001b[1;32m    203\u001b[0m             \u001b[0;32mif\u001b[0m \u001b[0mretry_num\u001b[0m \u001b[0;34m==\u001b[0m \u001b[0mnum_retries\u001b[0m\u001b[0;34m:\u001b[0m\u001b[0;34m\u001b[0m\u001b[0;34m\u001b[0m\u001b[0m\n\u001b[0;32m--> 204\u001b[0;31m                 \u001b[0;32mraise\u001b[0m \u001b[0mexception\u001b[0m\u001b[0;34m\u001b[0m\u001b[0;34m\u001b[0m\u001b[0m\n\u001b[0m\u001b[1;32m    205\u001b[0m             \u001b[0;32melse\u001b[0m\u001b[0;34m:\u001b[0m\u001b[0;34m\u001b[0m\u001b[0;34m\u001b[0m\u001b[0m\n\u001b[1;32m    206\u001b[0m                 \u001b[0;32mcontinue\u001b[0m\u001b[0;34m\u001b[0m\u001b[0;34m\u001b[0m\u001b[0m\n",
      "\u001b[0;32m/usr/local/lib/python3.8/dist-packages/googleapiclient/http.py\u001b[0m in \u001b[0;36m_retry_request\u001b[0;34m(http, num_retries, req_type, sleep, rand, uri, method, *args, **kwargs)\u001b[0m\n\u001b[1;32m    175\u001b[0m         \u001b[0;32mtry\u001b[0m\u001b[0;34m:\u001b[0m\u001b[0;34m\u001b[0m\u001b[0;34m\u001b[0m\u001b[0m\n\u001b[1;32m    176\u001b[0m             \u001b[0mexception\u001b[0m \u001b[0;34m=\u001b[0m \u001b[0;32mNone\u001b[0m\u001b[0;34m\u001b[0m\u001b[0;34m\u001b[0m\u001b[0m\n\u001b[0;32m--> 177\u001b[0;31m             \u001b[0mresp\u001b[0m\u001b[0;34m,\u001b[0m \u001b[0mcontent\u001b[0m \u001b[0;34m=\u001b[0m \u001b[0mhttp\u001b[0m\u001b[0;34m.\u001b[0m\u001b[0mrequest\u001b[0m\u001b[0;34m(\u001b[0m\u001b[0muri\u001b[0m\u001b[0;34m,\u001b[0m \u001b[0mmethod\u001b[0m\u001b[0;34m,\u001b[0m \u001b[0;34m*\u001b[0m\u001b[0margs\u001b[0m\u001b[0;34m,\u001b[0m \u001b[0;34m**\u001b[0m\u001b[0mkwargs\u001b[0m\u001b[0;34m)\u001b[0m\u001b[0;34m\u001b[0m\u001b[0;34m\u001b[0m\u001b[0m\n\u001b[0m\u001b[1;32m    178\u001b[0m         \u001b[0;31m# Retry on SSL errors and socket timeout errors.\u001b[0m\u001b[0;34m\u001b[0m\u001b[0;34m\u001b[0m\u001b[0;34m\u001b[0m\u001b[0m\n\u001b[1;32m    179\u001b[0m         \u001b[0;32mexcept\u001b[0m \u001b[0m_ssl_SSLError\u001b[0m \u001b[0;32mas\u001b[0m \u001b[0mssl_error\u001b[0m\u001b[0;34m:\u001b[0m\u001b[0;34m\u001b[0m\u001b[0;34m\u001b[0m\u001b[0m\n",
      "\u001b[0;32m/usr/local/lib/python3.8/dist-packages/google_auth_httplib2.py\u001b[0m in \u001b[0;36mrequest\u001b[0;34m(self, uri, method, body, headers, **kwargs)\u001b[0m\n\u001b[1;32m    198\u001b[0m \u001b[0;34m\u001b[0m\u001b[0m\n\u001b[1;32m    199\u001b[0m         \u001b[0;31m# Make the request.\u001b[0m\u001b[0;34m\u001b[0m\u001b[0;34m\u001b[0m\u001b[0;34m\u001b[0m\u001b[0m\n\u001b[0;32m--> 200\u001b[0;31m         response, content = self.http.request(\n\u001b[0m\u001b[1;32m    201\u001b[0m             uri, method, body=body, headers=request_headers, **kwargs)\n\u001b[1;32m    202\u001b[0m \u001b[0;34m\u001b[0m\u001b[0m\n",
      "\u001b[0;32m/usr/local/lib/python3.8/dist-packages/httplib2/__init__.py\u001b[0m in \u001b[0;36mrequest\u001b[0;34m(self, uri, method, body, headers, redirections, connection_type)\u001b[0m\n\u001b[1;32m   1983\u001b[0m                     \u001b[0mcontent\u001b[0m \u001b[0;34m=\u001b[0m \u001b[0;34mb\"\"\u001b[0m\u001b[0;34m\u001b[0m\u001b[0;34m\u001b[0m\u001b[0m\n\u001b[1;32m   1984\u001b[0m                 \u001b[0;32melse\u001b[0m\u001b[0;34m:\u001b[0m\u001b[0;34m\u001b[0m\u001b[0;34m\u001b[0m\u001b[0m\n\u001b[0;32m-> 1985\u001b[0;31m                     (response, content) = self._request(\n\u001b[0m\u001b[1;32m   1986\u001b[0m                         \u001b[0mconn\u001b[0m\u001b[0;34m,\u001b[0m\u001b[0;34m\u001b[0m\u001b[0;34m\u001b[0m\u001b[0m\n\u001b[1;32m   1987\u001b[0m                         \u001b[0mauthority\u001b[0m\u001b[0;34m,\u001b[0m\u001b[0;34m\u001b[0m\u001b[0;34m\u001b[0m\u001b[0m\n",
      "\u001b[0;32m/usr/local/lib/python3.8/dist-packages/httplib2/__init__.py\u001b[0m in \u001b[0;36m_request\u001b[0;34m(self, conn, host, absolute_uri, request_uri, method, body, headers, redirections, cachekey)\u001b[0m\n\u001b[1;32m   1648\u001b[0m             \u001b[0mauth\u001b[0m\u001b[0;34m.\u001b[0m\u001b[0mrequest\u001b[0m\u001b[0;34m(\u001b[0m\u001b[0mmethod\u001b[0m\u001b[0;34m,\u001b[0m \u001b[0mrequest_uri\u001b[0m\u001b[0;34m,\u001b[0m \u001b[0mheaders\u001b[0m\u001b[0;34m,\u001b[0m \u001b[0mbody\u001b[0m\u001b[0;34m)\u001b[0m\u001b[0;34m\u001b[0m\u001b[0;34m\u001b[0m\u001b[0m\n\u001b[1;32m   1649\u001b[0m \u001b[0;34m\u001b[0m\u001b[0m\n\u001b[0;32m-> 1650\u001b[0;31m         (response, content) = self._conn_request(\n\u001b[0m\u001b[1;32m   1651\u001b[0m             \u001b[0mconn\u001b[0m\u001b[0;34m,\u001b[0m \u001b[0mrequest_uri\u001b[0m\u001b[0;34m,\u001b[0m \u001b[0mmethod\u001b[0m\u001b[0;34m,\u001b[0m \u001b[0mbody\u001b[0m\u001b[0;34m,\u001b[0m \u001b[0mheaders\u001b[0m\u001b[0;34m\u001b[0m\u001b[0;34m\u001b[0m\u001b[0m\n\u001b[1;32m   1652\u001b[0m         )\n",
      "\u001b[0;32m/usr/local/lib/python3.8/dist-packages/httplib2shim/__init__.py\u001b[0m in \u001b[0;36m_conn_request\u001b[0;34m(self, conn, request_uri, method, body, headers)\u001b[0m\n\u001b[1;32m    152\u001b[0m \u001b[0;34m\u001b[0m\u001b[0m\n\u001b[1;32m    153\u001b[0m         \u001b[0;32mexcept\u001b[0m \u001b[0mException\u001b[0m \u001b[0;32mas\u001b[0m \u001b[0me\u001b[0m\u001b[0;34m:\u001b[0m\u001b[0;34m\u001b[0m\u001b[0;34m\u001b[0m\u001b[0m\n\u001b[0;32m--> 154\u001b[0;31m             \u001b[0;32mraise\u001b[0m \u001b[0m_map_exception\u001b[0m\u001b[0;34m(\u001b[0m\u001b[0me\u001b[0m\u001b[0;34m)\u001b[0m\u001b[0;34m\u001b[0m\u001b[0;34m\u001b[0m\u001b[0m\n\u001b[0m\u001b[1;32m    155\u001b[0m \u001b[0;34m\u001b[0m\u001b[0m\n\u001b[1;32m    156\u001b[0m         \u001b[0;32mreturn\u001b[0m \u001b[0mresponse\u001b[0m\u001b[0;34m,\u001b[0m \u001b[0mcontent\u001b[0m\u001b[0;34m\u001b[0m\u001b[0;34m\u001b[0m\u001b[0m\n",
      "\u001b[0;31mSSLError\u001b[0m: (SSLError(\"bad handshake: SysCallError(-1, 'Unexpected EOF')\"),)"
     ]
    }
   ],
   "source": [
    "years = np.unique(geo_df.INVYR).astype(int)\n",
    "BUCKET = 'usfs-fia-data'\n",
    "FOLDER = 'aux-demo'\n",
    "BATCHES = 3\n",
    "KERNEL_SIZE = 12 \n",
    "max_cloud_thr = 5\n",
    "im_resolution = 30\n",
    "BUFFER = 60\n",
    "\n",
    "#we want to iterate through the years of the naip\n",
    "for y in years:\n",
    "    subset, _, _ = tools.create_subset(geo_df, y)\n",
    "    n = len(subset)\n",
    "    #subset the points first to get the appropriate images for plot\n",
    "    TRAINING_BASE = f'aux_{y}'\n",
    "    SAMPLE = f'aux_sample_patches_{y}'\n",
    "    batch_indicies = np.array_split(np.arange(n),BATCHES)\n",
    "    for b in range(BATCHES):\n",
    "        batch_subset, roi, training_pnts = tools.create_subset(subset.iloc[batch_indicies[b]], y)\n",
    "        start_date = [int(y),6,1]\n",
    "        imgs = tools.get_model_data(roi, start_date, monthwindow=1, \\\n",
    "                                    max_cloud_thr=max_cloud_thr)\n",
    "        topo = imgs['topo']\n",
    "        climate = imgs['climate']\n",
    "        landsat = imgs['landsat']\n",
    "        \n",
    "        featureStack = ee.Image.cat([\n",
    "           topo, \\\n",
    "           climate, \\\n",
    "           landsat]).float()\n",
    "        \n",
    "        #topo_bands = [f\"{b['id']}_{y}\" for b in topo.getInfo()['bands']]\n",
    "        #landsat_bands = [f\"{b['id']}_{y}\" for b in landsat.getInfo()['bands']]\n",
    "        #climate_bands = [f\"{b['id']}_{y}\" for b in climate.getInfo()['bands']]       \n",
    "        arrays, EXPORT_BANDS = tools.create_arraystack(featureStack, BUFFER)\n",
    "\n",
    "        n = training_pnts.size().getInfo()\n",
    "        #we can batch here\n",
    "        geomSample = ee.FeatureCollection([])\n",
    "        for g in range(n):\n",
    "            region = ee.Feature(training_pnts.get(g)).geometry()\n",
    "            sample = arrays.sample(\\\n",
    "                                   region = region,\\\n",
    "                                   scale = im_resolution,\\\n",
    "                                   numPixels = 1,\\\n",
    "                                   tileScale=8)\n",
    "        geomSample = geomSample.merge(sample)\n",
    "        desc = f'{TRAINING_BASE}_batch_{b+1}'\n",
    "        \n",
    "        task = ee.batch.Export.table.toCloudStorage(\\\n",
    "            collection = geomSample,\\\n",
    "            description = desc, \\\n",
    "            bucket = BUCKET,\\\n",
    "            fileNamePrefix = f'{FOLDER}/{desc}',\\\n",
    "            fileFormat = 'TFRecord',\\\n",
    "            selectors = EXPORT_BANDS)\n",
    "        task.start()\n",
    "\n"
   ]
  }
 ],
 "metadata": {
  "kernelspec": {
   "display_name": "Python 3",
   "language": "python",
   "name": "python3"
  },
  "language_info": {
   "codemirror_mode": {
    "name": "ipython",
    "version": 3
   },
   "file_extension": ".py",
   "mimetype": "text/x-python",
   "name": "python",
   "nbconvert_exporter": "python",
   "pygments_lexer": "ipython3",
   "version": "3.8.2"
  }
 },
 "nbformat": 4,
 "nbformat_minor": 2
}
